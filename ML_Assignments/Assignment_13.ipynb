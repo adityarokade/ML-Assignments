{
 "cells": [
  {
   "cell_type": "code",
   "execution_count": 1,
   "metadata": {},
   "outputs": [
    {
     "name": "stdout",
     "output_type": "stream",
     "text": [
      "Prior probability shows the likelihood of an outcome in a given dataset. For example, in the mortgage case, P(Y) is the default rate on a home mortgage, which is 2%. P(Y|X) is called the conditional probability, which provides the probability of an outcome given the evidence, that is, when the value of X is known.\n"
     ]
    }
   ],
   "source": [
    "#1. Provide an example of the concepts of Prior, Posterior, and Likelihood.\n",
    "\n",
    "print(\"Prior probability shows the likelihood of an outcome in a given dataset. For example, in the mortgage case, P(Y) is the default rate on a home mortgage, which is 2%. P(Y|X) is called the conditional probability, which provides the probability of an outcome given the evidence, that is, when the value of X is known.\")"
   ]
  },
  {
   "cell_type": "code",
   "execution_count": 2,
   "metadata": {},
   "outputs": [
    {
     "name": "stdout",
     "output_type": "stream",
     "text": [
      "Bayes Theorem is a useful tool in applied machine learning. It provides a way of thinking about the relationship between data and a model. A machine learning algorithm or model is a specific way of thinking about the structured relationships in the data.\n"
     ]
    }
   ],
   "source": [
    "#2. What role does Bayes' theorem play in the concept learning principle?\n",
    "\n",
    "print(\"Bayes Theorem is a useful tool in applied machine learning. It provides a way of thinking about the relationship between data and a model. A machine learning algorithm or model is a specific way of thinking about the structured relationships in the data.\")"
   ]
  },
  {
   "cell_type": "code",
   "execution_count": 4,
   "metadata": {},
   "outputs": [
    {
     "name": "stdout",
     "output_type": "stream",
     "text": [
      "Applications of Naive Bayes Algorithm\n",
      "As this algorithm is fast and efficient, you can use it to make real-time predictions.\n",
      "This algorithm is popular for multi-class predictions. ...\n",
      "Email services (like Gmail) use this algorithm to figure out whether an email is a spam or not.\n"
     ]
    }
   ],
   "source": [
    "#3. Offer an example of how the Nave Bayes classifier is used in real life.\n",
    "\n",
    "print(\"\"\"Applications of Naive Bayes Algorithm\n",
    "As this algorithm is fast and efficient, you can use it to make real-time predictions.\n",
    "This algorithm is popular for multi-class predictions. ...\n",
    "Email services (like Gmail) use this algorithm to figure out whether an email is a spam or not.\"\"\")"
   ]
  },
  {
   "cell_type": "code",
   "execution_count": 5,
   "metadata": {},
   "outputs": [
    {
     "name": "stdout",
     "output_type": "stream",
     "text": [
      "So, how do we perform classification using Naive Bayes when the data we have is continuous in nature. If an instance in test data set has a category that was not present during training then it will assign it “Zero” probability and won't be able to make prediction. This is known as Zero frequency problem.\n"
     ]
    }
   ],
   "source": [
    "#4. Can the Nave Bayes classifier be used on continuous numeric data? If so, how can you go about doing it?\n",
    "\n",
    "print(\"So, how do we perform classification using Naive Bayes when the data we have is continuous in nature. If an instance in test data set has a category that was not present during training then it will assign it “Zero” probability and won't be able to make prediction. This is known as Zero frequency problem.\")"
   ]
  },
  {
   "cell_type": "code",
   "execution_count": 7,
   "metadata": {},
   "outputs": [
    {
     "name": "stdout",
     "output_type": "stream",
     "text": [
      "A Bayesian belief network (BBN), which also may be called a Bayesian causal probabilistic network, is a graphical data structure that compactly represents the joint probability distribution of a problem domain by exploiting conditional dependencies.\n",
      "Bayesian networks are a type of probabilistic graphical model that uses Bayesian inference for probability computations. Bayesian networks aim to model conditional dependence, and therefore causation, by representing conditional dependence by edges in a directed graph.\n"
     ]
    }
   ],
   "source": [
    "#5. What are Bayesian Belief Networks, and how do they work? What are their applications? Are they capable of resolving a wide range of issues?\n",
    "\n",
    "\n",
    "print(\"A Bayesian belief network (BBN), which also may be called a Bayesian causal probabilistic network, is a graphical data structure that compactly represents the joint probability distribution of a problem domain by exploiting conditional dependencies.\")\n",
    "\n",
    "print(\"Bayesian networks are a type of probabilistic graphical model that uses Bayesian inference for probability computations. Bayesian networks aim to model conditional dependence, and therefore causation, by representing conditional dependence by edges in a directed graph.\")"
   ]
  },
  {
   "cell_type": "code",
   "execution_count": 8,
   "metadata": {},
   "outputs": [
    {
     "name": "stdout",
     "output_type": "stream",
     "text": [
      "This can be solved directly with the Bayesian theorem.\n",
      "P(T = 1|A = 1) = P(A = 1|T = 1)P(T = 1)\n",
      "P(A = 1) (1)\n",
      "=\n",
      "P(A = 1|T = 1)P(T = 1)\n",
      "P(A = 1|T = 1)P(T = 1) + P(A = 1|T = 0)P(T = 0) (2)\n",
      "=\n",
      "0.98 × 0.00001\n",
      "0.98 × 0.00001 + 0.001 × (1 − 0.00001) = 0.0097 (3)\n",
      "≈\n",
      "0.00001\n",
      "0.001\n",
      "= 0.01 (4)\n",
      "It is interesting that even though for any passenger it can be decided with high reliability (98% and 99.9%)\n",
      "whether (s)he is a terrorist or not, if somebody gets arrested as a terrorist, (s)he is still most likely not a\n",
      "terrorist (with a probability of 99%).\n"
     ]
    }
   ],
   "source": [
    "#6. Passengers are checked in an airport screening system to see if there is an intruder. Let I be the random variable that indicates whether someone is an intruder I = 1) or not I = 0), and A be the variable that indicates alarm I = 0). If an intruder is detected with probability P(A = 1|I = 1) = 0.98 and a non-intruder is detected with probability P(A = 1|I = 0) = 0.001, an alarm will be triggered, implying the error factor. The likelihood of an intruder in the passenger population is P(I = 1) = 0.00001. What are the chances that an alarm would be triggered when an individual is actually an intruder?\n",
    "\n",
    "print(\"\"\"This can be solved directly with the Bayesian theorem.\n",
    "P(T = 1|A = 1) = P(A = 1|T = 1)P(T = 1)\n",
    "P(A = 1) (1)\n",
    "=\n",
    "P(A = 1|T = 1)P(T = 1)\n",
    "P(A = 1|T = 1)P(T = 1) + P(A = 1|T = 0)P(T = 0) (2)\n",
    "=\n",
    "0.98 × 0.00001\n",
    "0.98 × 0.00001 + 0.001 × (1 − 0.00001) = 0.0097 (3)\n",
    "≈\n",
    "0.00001\n",
    "0.001\n",
    "= 0.01 (4)\n",
    "It is interesting that even though for any passenger it can be decided with high reliability (98% and 99.9%)\n",
    "whether (s)he is a terrorist or not, if somebody gets arrested as a terrorist, (s)he is still most likely not a\n",
    "terrorist (with a probability of 99%).\"\"\")"
   ]
  }
 ],
 "metadata": {
  "kernelspec": {
   "display_name": "Python 3",
   "language": "python",
   "name": "python3"
  },
  "language_info": {
   "codemirror_mode": {
    "name": "ipython",
    "version": 3
   },
   "file_extension": ".py",
   "mimetype": "text/x-python",
   "name": "python",
   "nbconvert_exporter": "python",
   "pygments_lexer": "ipython3",
   "version": "3.7.6"
  }
 },
 "nbformat": 4,
 "nbformat_minor": 4
}
