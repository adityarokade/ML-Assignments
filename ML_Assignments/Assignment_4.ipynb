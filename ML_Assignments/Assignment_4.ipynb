{
 "cells": [
  {
   "cell_type": "code",
   "execution_count": 5,
   "metadata": {},
   "outputs": [
    {
     "name": "stdout",
     "output_type": "stream",
     "text": [
      "Step 1: Collect Data.\n",
      "Step 2: Prepare the data. ...\n",
      "Step 3: Choose the model. ...\n",
      "Step 4 Train your machine model. ...\n",
      "Step 5: Evaluation. ...\n",
      "Step 6: Parameter Tuning. ...\n",
      "Step 7: Prediction or Inference.\n"
     ]
    }
   ],
   "source": [
    "#1. What are the key tasks involved in getting ready to work with machine learning modeling?\n",
    "\n",
    "print(\"\"\"Step 1: Collect Data....\n",
    "Step 2: Prepare the data. ...\n",
    "Step 3: Choose the model. ...\n",
    "Step 4 Train your machine model. ...\n",
    "Step 5: Evaluation. ...\n",
    "Step 6: Parameter Tuning. ...\n",
    "Step 7: Prediction or Inference.\"\"\")"
   ]
  },
  {
   "cell_type": "code",
   "execution_count": 6,
   "metadata": {},
   "outputs": [
    {
     "name": "stdout",
     "output_type": "stream",
     "text": [
      "In machine Learning there are several types of data are used like contineous ,catigorical,images,video,text,etc types of data are used.\n"
     ]
    }
   ],
   "source": [
    "#2. What are the different forms of data used in machine learning? Give a specific example for each of them.\n",
    "\n",
    "print(\"In machine Learning there are several types of data are used like contineous ,catigorical,images,video,text,etc types of data are used.\")"
   ]
  },
  {
   "cell_type": "code",
   "execution_count": 9,
   "metadata": {},
   "outputs": [
    {
     "name": "stdout",
     "output_type": "stream",
     "text": [
      "1. Numeric vs. categorical attributes\n",
      "In Numeric the data type is in integer,float. and in categorical the data type is str,object,text.\n",
      "------------------------------------------------------------\n",
      "2. Feature selection vs. dimensionality reduction\n",
      "Feature selection means -fetures are selected for training a model by using some logic and features are must be in relation with lable column.\n",
      "Dimensionality reduction means-in that the dimensions are reduced to train model or.if data dimensions are very large then our model got difficult in find the relation between data.\n"
     ]
    }
   ],
   "source": [
    "#3. Distinguish:\n",
    "\n",
    " #          1. Numeric vs. categorical attributes\n",
    "\n",
    "#            2. Feature selection vs. dimensionality reduction\n",
    "\n",
    "\n",
    "\n",
    "print(\"1. Numeric vs. categorical attributes\")\n",
    "print(\"In Numeric the data type is in integer,float. and in categorical the data type is str,object,text.\")\n",
    "print(\"---\"*20)\n",
    "print(\"2. Feature selection vs. dimensionality reduction\")\n",
    "print(\"Feature selection means -fetures are selected for training a model by using some logic and features are must be in relation with lable column.\")\n",
    "print(\"Dimensionality reduction means-in that the dimensions are reduced to train model or.if data dimensions are very large then our model got difficult in find the relation between data.\")"
   ]
  },
  {
   "cell_type": "code",
   "execution_count": 11,
   "metadata": {},
   "outputs": [
    {
     "name": "stdout",
     "output_type": "stream",
     "text": [
      " 1. The histogram\n",
      "A histogram is a graphical display of data with bars of different heights, where each bar groups numbers into ranges. The taller the bars, the more the data falls in that range. It displays the shape as well as the spread of continuous sample data.\n",
      "\n",
      "2. Use a scatter plot\n",
      "Scatter plots' primary uses are to observe and show relationships between two numeric variables. The dots in a scatter plot not only report the values of individual data points, but also patterns when the data are taken as a whole. Identification of correlational relationships are common with scatter plots.\n"
     ]
    }
   ],
   "source": [
    "#4. Make quick notes on any two of the following:\n",
    "\n",
    " #           1. The histogram\n",
    "\n",
    " #            2. Use a scatter plot\n",
    "\n",
    " #             3.PCA (Personal Computer Aid)\n",
    "\n",
    "    \n",
    "print(\" 1. The histogram\")\n",
    "print(\"A histogram is a graphical display of data with bars of different heights, where each bar groups numbers into ranges. The taller the bars, the more the data falls in that range. It displays the shape as well as the spread of continuous sample data.\")\n",
    "\n",
    "print()\n",
    "print(\"2. Use a scatter plot\")\n",
    "print(\"Scatter plots' primary uses are to observe and show relationships between two numeric variables. The dots in a scatter plot not only report the values of individual data points, but also patterns when the data are taken as a whole. Identification of correlational relationships are common with scatter plots.\")"
   ]
  },
  {
   "cell_type": "code",
   "execution_count": 13,
   "metadata": {},
   "outputs": [
    {
     "name": "stdout",
     "output_type": "stream",
     "text": [
      "Simply put, quantitative data gets you the numbers to prove the broad general points of your research. Qualitative data brings you the details and the depth to understand their full implications. To get the best results from these methods in your surveys, it's important that you understand the differences between them.\n"
     ]
    }
   ],
   "source": [
    "#5. Why is it necessary to investigate data? Is there a discrepancy in how qualitative and quantitative data are explored?\n",
    "\n",
    "\n",
    "print(\"Simply put, quantitative data gets you the numbers to prove the broad general points of your research. Qualitative data brings you the details and the depth to understand their full implications. To get the best results from these methods in your surveys, it's important that you understand the differences between them.\")"
   ]
  },
  {
   "cell_type": "code",
   "execution_count": 14,
   "metadata": {},
   "outputs": [
    {
     "name": "stdout",
     "output_type": "stream",
     "text": [
      "Skewed Distribution. The skewed distribution is asymmetrical because a natural limit prevents outcomes on one side. ...\n",
      "Double-Peaked or Bimodal. ...\n",
      "Plateau or Multimodal Distribution. ...\n",
      "Edge Peak Distribution. ...\n",
      "Comb Distribution. ...\n",
      "Truncated or Heart-Cut Distribution. ...\n",
      "Dog Food Distribution.\n",
      "\n"
     ]
    }
   ],
   "source": [
    "#6. What are the various histogram shapes? What exactly are ‘bins'?\n",
    "\n",
    "print(\"\"\"Skewed Distribution. The skewed distribution is asymmetrical because a natural limit prevents outcomes on one side. ...\n",
    "Double-Peaked or Bimodal. ...\n",
    "Plateau or Multimodal Distribution. ...\n",
    "Edge Peak Distribution. ...\n",
    "Comb Distribution. ...\n",
    "Truncated or Heart-Cut Distribution. ...\n",
    "Dog Food Distribution.\n",
    "\"\"\")"
   ]
  },
  {
   "cell_type": "code",
   "execution_count": 1,
   "metadata": {},
   "outputs": [
    {
     "name": "stdout",
     "output_type": "stream",
     "text": [
      "5 ways to deal with outliers in data\n",
      "Set up a filter in your testing tool. Even though this has a little cost, filtering out outliers is worth it. ...\n",
      "Remove or change outliers during post-test analysis. ...\n",
      "Change the value of outliers. ...\n",
      "Consider the underlying distribution. ...\n",
      "Consider the value of mild outliers.\n"
     ]
    }
   ],
   "source": [
    "#7. How do we deal with data outliers?\n",
    "\n",
    "print(\"\"\"5 ways to deal with outliers in data\n",
    "Set up a filter in your testing tool. Even though this has a little cost, filtering out outliers is worth it. ...\n",
    "Remove or change outliers during post-test analysis. ...\n",
    "Change the value of outliers. ...\n",
    "Consider the underlying distribution. ...\n",
    "Consider the value of mild outliers.\"\"\")"
   ]
  },
  {
   "cell_type": "code",
   "execution_count": 2,
   "metadata": {},
   "outputs": [
    {
     "name": "stdout",
     "output_type": "stream",
     "text": [
      "Three of the many ways to measure central tendency are the mean, median and mode.\n",
      "No matter what value we add to the set, the mean, median, and mode will shift by that amount but the range and the IQR will remain the same. The same will be true if we subtract an amount from every data point in the set: the mean, median, and mode will shift to the left but the range and IQR will stay the same.\n"
     ]
    }
   ],
   "source": [
    "#8. What are the various central inclination measures? Why does mean vary too much from median in certain data sets?\n",
    "\n",
    "print(\"Three of the many ways to measure central tendency are the mean, median and mode.\")\n",
    "print(\"No matter what value we add to the set, the mean, median, and mode will shift by that amount but the range and the IQR will remain the same. The same will be true if we subtract an amount from every data point in the set: the mean, median, and mode will shift to the left but the range and IQR will stay the same.\")"
   ]
  },
  {
   "cell_type": "code",
   "execution_count": 4,
   "metadata": {},
   "outputs": [
    {
     "name": "stdout",
     "output_type": "stream",
     "text": [
      "The scatter plot is a fundamental tool for looking at bivariate data. It shows the important characteristics of the data and can be used to decide what model may describe the relationship between the variables.\n"
     ]
    }
   ],
   "source": [
    "#9. Describe how a scatter plot can be used to investigate bivariate relationships. Is it possible to find outliers using a scatter plot?\n",
    "\n",
    "print(\"The scatter plot is a fundamental tool for looking at bivariate data. It shows the important characteristics of the data and can be used to decide what model may describe the relationship between the variables.\")"
   ]
  },
  {
   "cell_type": "code",
   "execution_count": 5,
   "metadata": {},
   "outputs": [
    {
     "name": "stdout",
     "output_type": "stream",
     "text": [
      "Cross-tabulation is a mainframe statistical model that follows similar lines. It helps you make informed decisions regarding your research by identifying patterns, trends, and the correlation between your study parameters. When conducting a study, the raw data can usually be daunting.\n"
     ]
    }
   ],
   "source": [
    "#10. Describe how cross-tabs can be used to figure out how two variables are related.\n",
    "print(\"Cross-tabulation is a mainframe statistical model that follows similar lines. It helps you make informed decisions regarding your research by identifying patterns, trends, and the correlation between your study parameters. When conducting a study, the raw data can usually be daunting.\")"
   ]
  },
  {
   "cell_type": "code",
   "execution_count": null,
   "metadata": {},
   "outputs": [],
   "source": []
  }
 ],
 "metadata": {
  "kernelspec": {
   "display_name": "Python 3",
   "language": "python",
   "name": "python3"
  },
  "language_info": {
   "codemirror_mode": {
    "name": "ipython",
    "version": 3
   },
   "file_extension": ".py",
   "mimetype": "text/x-python",
   "name": "python",
   "nbconvert_exporter": "python",
   "pygments_lexer": "ipython3",
   "version": "3.7.6"
  }
 },
 "nbformat": 4,
 "nbformat_minor": 4
}
