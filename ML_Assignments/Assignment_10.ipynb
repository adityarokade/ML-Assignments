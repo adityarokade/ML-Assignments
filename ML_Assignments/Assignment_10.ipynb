{
 "cells": [
  {
   "cell_type": "code",
   "execution_count": 1,
   "metadata": {},
   "outputs": [
    {
     "name": "stdout",
     "output_type": "stream",
     "text": [
      "It is defined as the: Probability of an event A given B equals the probability of B and A happening together divided by the probability of B.” For example: Assume two partially intersecting sets A and B as shown below. Set A represents one set of events and Set B represents another.2\n"
     ]
    }
   ],
   "source": [
    "#Define the Bayesian interpretation of probability.\n",
    "\n",
    "\n",
    "print(\"It is defined as the: Probability of an event A given B equals the probability of B and A happening together divided by the probability of B.” For example: Assume two partially intersecting sets A and B as shown below. Set A represents one set of events and Set B represents another.2\")"
   ]
  },
  {
   "cell_type": "code",
   "execution_count": 2,
   "metadata": {},
   "outputs": [
    {
     "name": "stdout",
     "output_type": "stream",
     "text": [
      "P(A or B) = P(A) + P(B). The chance of any (one or more) of two or more events occurring is called the union of the events. The probability of the union of disjoint events is the sum of their individual probabilities.\n"
     ]
    }
   ],
   "source": [
    "#Define probability of a union of two events with equation?\n",
    "\n",
    "\n",
    "print(\"P(A or B) = P(A) + P(B). The chance of any (one or more) of two or more events occurring is called the union of the events. The probability of the union of disjoint events is the sum of their individual probabilities.\")"
   ]
  },
  {
   "cell_type": "code",
   "execution_count": 3,
   "metadata": {},
   "outputs": [
    {
     "name": "stdout",
     "output_type": "stream",
     "text": [
      "Probabilities are combined using multiplication, therefore the joint probability of independent events is calculated as the probability of event A multiplied by the probability of event B. This can be stated formally as follows: Joint Probability: P(A and B) = P(A) * P(B)\n"
     ]
    }
   ],
   "source": [
    "#What is joint probability? What is its formula?\n",
    "\n",
    "print(\"Probabilities are combined using multiplication, therefore the joint probability of independent events is calculated as the probability of event A multiplied by the probability of event B. This can be stated formally as follows: Joint Probability: P(A and B) = P(A) * P(B)\")"
   ]
  },
  {
   "cell_type": "code",
   "execution_count": 5,
   "metadata": {},
   "outputs": [
    {
     "name": "stdout",
     "output_type": "stream",
     "text": [
      "The chain rule, or general product rule, calculates any component of the joint distribution of a set of random variables using only conditional probabilities. This probability theory is used as a foundation for backpropagation and in creating Bayesian networks.\n"
     ]
    }
   ],
   "source": [
    "#What is chain rule of probability?\n",
    "\n",
    "print(\"The chain rule, or general product rule, calculates any component of the joint distribution of a set of random variables using only conditional probabilities. This probability theory is used as a foundation for backpropagation and in creating Bayesian networks.\")"
   ]
  },
  {
   "cell_type": "code",
   "execution_count": 6,
   "metadata": {},
   "outputs": [
    {
     "name": "stdout",
     "output_type": "stream",
     "text": [
      "Conditional probability: p(A|B) is the probability of event A occurring, given that event B occurs. For example, given that you drew a red card, what's the probability that it's a four (p(four|red))=2/26=1/13. So out of the 26 red cards (given a red card), there are two fours so 2/26=1/13.\n"
     ]
    }
   ],
   "source": [
    "#What is conditional probability means? What is the formula of it?\n",
    "\n",
    "\n",
    "print(\"Conditional probability: p(A|B) is the probability of event A occurring, given that event B occurs. For example, given that you drew a red card, what's the probability that it's a four (p(four|red))=2/26=1/13. So out of the 26 red cards (given a red card), there are two fours so 2/26=1/13.\")"
   ]
  },
  {
   "cell_type": "code",
   "execution_count": 7,
   "metadata": {},
   "outputs": [
    {
     "name": "stdout",
     "output_type": "stream",
     "text": [
      "A continuous random variable is one which takes an infinite number of possible values. Continuous random variables are usually measurements. Examples include height, weight, the amount of sugar in an orange, the time required to run a mile.\n"
     ]
    }
   ],
   "source": [
    "#What are continuous random variables?\n",
    "\n",
    "print(\"A continuous random variable is one which takes an infinite number of possible values. Continuous random variables are usually measurements. Examples include height, weight, the amount of sugar in an orange, the time required to run a mile.\")"
   ]
  },
  {
   "cell_type": "code",
   "execution_count": 8,
   "metadata": {},
   "outputs": [
    {
     "name": "stdout",
     "output_type": "stream",
     "text": [
      "A Bernoulli distribution is a discrete probability distribution for a Bernoulli trial — a random experiment that has only two outcomes (usually called a “Success” or a “Failure”). For example, the probability of getting a heads (a “success”) while flipping a coin is 0.5\n"
     ]
    }
   ],
   "source": [
    "#What are Bernoulli distributions? What is the formula of it?\n",
    "\n",
    "\n",
    "print(\"A Bernoulli distribution is a discrete probability distribution for a Bernoulli trial — a random experiment that has only two outcomes (usually called a “Success” or a “Failure”). For example, the probability of getting a heads (a “success”) while flipping a coin is 0.5\")"
   ]
  },
  {
   "cell_type": "code",
   "execution_count": 9,
   "metadata": {},
   "outputs": [
    {
     "name": "stdout",
     "output_type": "stream",
     "text": [
      "The binomial distribution is calculated by multiplying the probability of success raised to the power of the number of successes and the probability of failure raised to the power of the difference between the number of successes and the number of trials.\n"
     ]
    }
   ],
   "source": [
    "#What is binomial distribution? What is the formula?\n",
    "\n",
    "\n",
    "print(\"The binomial distribution is calculated by multiplying the probability of success raised to the power of the number of successes and the probability of failure raised to the power of the difference between the number of successes and the number of trials.\")"
   ]
  },
  {
   "cell_type": "code",
   "execution_count": 10,
   "metadata": {},
   "outputs": [
    {
     "name": "stdout",
     "output_type": "stream",
     "text": [
      "The formula for Poisson distribution is f(x) = P(X=x) = (e-λ λx )/x!. For the Poisson distribution, λ is always greater than 0. For Poisson distribution, the mean and the variance of the distribution are equal.\n"
     ]
    }
   ],
   "source": [
    "#What is Poisson distribution? What is the formula?\n",
    "\n",
    "\n",
    "print(\"The formula for Poisson distribution is f(x) = P(X=x) = (e-λ λx )/x!. For the Poisson distribution, λ is always greater than 0. For Poisson distribution, the mean and the variance of the distribution are equal.\")"
   ]
  },
  {
   "cell_type": "code",
   "execution_count": 11,
   "metadata": {},
   "outputs": [
    {
     "name": "stdout",
     "output_type": "stream",
     "text": [
      "Covariance measures the direction of the relationship between two variables. A positive covariance means that both variables tend to be high or low at the same time. A negative covariance means that when one variable is high, the other tends to be low.\n"
     ]
    }
   ],
   "source": [
    "#Define covariance.\n",
    "\n",
    "\n",
    "print(\"Covariance measures the direction of the relationship between two variables. A positive covariance means that both variables tend to be high or low at the same time. A negative covariance means that when one variable is high, the other tends to be low.\")"
   ]
  },
  {
   "cell_type": "code",
   "execution_count": 12,
   "metadata": {},
   "outputs": [
    {
     "name": "stdout",
     "output_type": "stream",
     "text": [
      "What is correlation? Correlation is a statistical measure that expresses the extent to which two variables are linearly related (meaning they change together at a constant rate). It's a common tool for describing simple relationships without making a statement about cause and effect.\n"
     ]
    }
   ],
   "source": [
    "#Define correlation\n",
    "\n",
    "print(\"What is correlation? Correlation is a statistical measure that expresses the extent to which two variables are linearly related (meaning they change together at a constant rate). It's a common tool for describing simple relationships without making a statement about cause and effect.\")"
   ]
  },
  {
   "cell_type": "code",
   "execution_count": null,
   "metadata": {},
   "outputs": [],
   "source": []
  }
 ],
 "metadata": {
  "kernelspec": {
   "display_name": "Python 3",
   "language": "python",
   "name": "python3"
  },
  "language_info": {
   "codemirror_mode": {
    "name": "ipython",
    "version": 3
   },
   "file_extension": ".py",
   "mimetype": "text/x-python",
   "name": "python",
   "nbconvert_exporter": "python",
   "pygments_lexer": "ipython3",
   "version": "3.7.6"
  }
 },
 "nbformat": 4,
 "nbformat_minor": 4
}
