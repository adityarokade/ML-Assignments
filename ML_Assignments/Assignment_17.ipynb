{
 "cells": [
  {
   "cell_type": "code",
   "execution_count": 1,
   "metadata": {},
   "outputs": [
    {
     "name": "stdout",
     "output_type": "stream",
     "text": [
      "A linear regression line has an equation of the form Y = a + bX, where X is the explanatory variable and Y is the dependent variable. The slope of the line is b, and a is the intercept (the value of y when x = 0).\n"
     ]
    }
   ],
   "source": [
    "#1. Using a graph to illustrate slope and intercept, define basic linear regression.\n",
    "\n",
    "print(\"A linear regression line has an equation of the form Y = a + bX, where X is the explanatory variable and Y is the dependent variable. The slope of the line is b, and a is the intercept (the value of y when x = 0).\")"
   ]
  },
  {
   "cell_type": "code",
   "execution_count": 2,
   "metadata": {},
   "outputs": [
    {
     "name": "stdout",
     "output_type": "stream",
     "text": [
      "The vertical change between two points is called the rise, and the horizontal change is called the run. The slope equals the rise divided by the run: . Finding the Slope of a Line from a Graph. You can determine the slope of a line from its graph by looking at the rise and run.\n"
     ]
    }
   ],
   "source": [
    "#2. In a graph, explain the terms rise, run, and slope.\n",
    "\n",
    "print(\"The vertical change between two points is called the rise, and the horizontal change is called the run. The slope equals the rise divided by the run: . Finding the Slope of a Line from a Graph. You can determine the slope of a line from its graph by looking at the rise and run.\")"
   ]
  },
  {
   "cell_type": "code",
   "execution_count": 3,
   "metadata": {},
   "outputs": [
    {
     "name": "stdout",
     "output_type": "stream",
     "text": [
      "A negative slope means that two variables are negatively related; that is, when x increases, y decreases, and when x decreases, y increases. Graphically, a negative slope means that as the line on the line graph moves from left to right, the line falls.\n"
     ]
    }
   ],
   "source": [
    "#3. Use a graph to demonstrate slope, linear positive slope, and linear negative slope, as well as the different conditions that contribute to the slope.\n",
    "\n",
    "\n",
    "print(\"A negative slope means that two variables are negatively related; that is, when x increases, y decreases, and when x decreases, y increases. Graphically, a negative slope means that as the line on the line graph moves from left to right, the line falls.\")"
   ]
  },
  {
   "cell_type": "code",
   "execution_count": 4,
   "metadata": {},
   "outputs": [
    {
     "name": "stdout",
     "output_type": "stream",
     "text": [
      "Positive numbers can either be written without a sign or with a + sign in front of them. Any number below zero is a negative number . Negative numbers are always written with a - sign in front of them. Always look at the sign in front of a number to see if it is positive or negative.\n"
     ]
    }
   ],
   "source": [
    "#4. Use a graph to demonstrate curve linear negative slope and curve linear positive slope.\n",
    "\n",
    "\n",
    "print(\"Positive numbers can either be written without a sign or with a + sign in front of them. Any number below zero is a negative number . Negative numbers are always written with a - sign in front of them. Always look at the sign in front of a number to see if it is positive or negative.\")"
   ]
  },
  {
   "cell_type": "code",
   "execution_count": 5,
   "metadata": {},
   "outputs": [
    {
     "name": "stdout",
     "output_type": "stream",
     "text": [
      "To find the maximum/minimum of a curve you must first differentiate the function and then equate it to zero. This gives you one coordinate. To find the other you must resubstitute the one already found into the original function.\n"
     ]
    }
   ],
   "source": [
    "#5. Use a graph to show the maximum and low points of curves.\n",
    "\n",
    "print(\"To find the maximum/minimum of a curve you must first differentiate the function and then equate it to zero. This gives you one coordinate. To find the other you must resubstitute the one already found into the original function.\")"
   ]
  },
  {
   "cell_type": "code",
   "execution_count": 6,
   "metadata": {},
   "outputs": [
    {
     "name": "stdout",
     "output_type": "stream",
     "text": [
      "\n",
      "Image result for 6. Use the formulas for a and b to explain ordinary least squares.\n",
      "Least Square Method Formula\n",
      "Suppose when we have to determine the equation of line of best fit for the given data, then we first use the following formula.\n",
      "The equation of least square line is given by Y = a + bX.\n",
      "Normal equation for 'a':\n",
      "∑Y = na + b∑X.\n",
      "Normal equation for 'b':\n",
      "∑XY = a∑X + b∑X2\n"
     ]
    }
   ],
   "source": [
    "#6. Use the formulas for a and b to explain ordinary least squares.\n",
    "\n",
    "\n",
    "\n",
    "print(\"\"\"\n",
    "Image result for 6. Use the formulas for a and b to explain ordinary least squares.\n",
    "Least Square Method Formula\n",
    "Suppose when we have to determine the equation of line of best fit for the given data, then we first use the following formula.\n",
    "The equation of least square line is given by Y = a + bX.\n",
    "Normal equation for 'a':\n",
    "∑Y = na + b∑X.\n",
    "Normal equation for 'b':\n",
    "∑XY = a∑X + b∑X2\"\"\")"
   ]
  },
  {
   "cell_type": "code",
   "execution_count": 7,
   "metadata": {},
   "outputs": [
    {
     "name": "stdout",
     "output_type": "stream",
     "text": [
      "Ordinary least squares (OLS) regression is a statistical method of analysis that estimates the relationship between one or more independent variables and a dependent variable; the method estimates the relationship by minimizing the sum of the squares in the difference between the observed and predicted values of the ...\n"
     ]
    }
   ],
   "source": [
    "#7. Provide a step-by-step explanation of the OLS algorithm.\n",
    "\n",
    "print(\"Ordinary least squares (OLS) regression is a statistical method of analysis that estimates the relationship between one or more independent variables and a dependent variable; the method estimates the relationship by minimizing the sum of the squares in the difference between the observed and predicted values of the ...\")"
   ]
  },
  {
   "cell_type": "code",
   "execution_count": 8,
   "metadata": {},
   "outputs": [
    {
     "name": "stdout",
     "output_type": "stream",
     "text": [
      "The standard error is calculated by dividing the standard deviation by the square root of number of measurements that make up the mean (often represented by N). In this case, 5 measurements were made (N = 5) so the standard deviation is divided by the square root of 5.\n"
     ]
    }
   ],
   "source": [
    "#8. What is the regression's standard error? To represent the same, make a graph.\n",
    "\n",
    "print(\"The standard error is calculated by dividing the standard deviation by the square root of number of measurements that make up the mean (often represented by N). In this case, 5 measurements were made (N = 5) so the standard deviation is divided by the square root of 5.\")"
   ]
  },
  {
   "cell_type": "code",
   "execution_count": 9,
   "metadata": {},
   "outputs": [
    {
     "name": "stdout",
     "output_type": "stream",
     "text": [
      "Multiple linear regression examples\n",
      "Example of How to Use Multiple Linear Regression\n",
      "yi = dependent variable—the price of XOM.\n",
      "xi1 = interest rates.\n",
      "xi2 = oil price.\n",
      "xi3 = value of S&P 500 index.\n",
      "xi4= price of oil futures.\n",
      "B0 = y-intercept at time zero.\n"
     ]
    }
   ],
   "source": [
    "#9. Provide an example of multiple linear regression.\n",
    "\n",
    "print(\"\"\"Multiple linear regression examples\n",
    "Example of How to Use Multiple Linear Regression\n",
    "yi = dependent variable—the price of XOM.\n",
    "xi1 = interest rates.\n",
    "xi2 = oil price.\n",
    "xi3 = value of S&P 500 index.\n",
    "xi4= price of oil futures.\n",
    "B0 = y-intercept at time zero.\"\"\")"
   ]
  },
  {
   "cell_type": "code",
   "execution_count": 10,
   "metadata": {},
   "outputs": [
    {
     "name": "stdout",
     "output_type": "stream",
     "text": [
      "There are four assumptions associated with a linear regression model: Linearity: The relationship between X and the mean of Y is linear. Homoscedasticity: The variance of residual is the same for any value of X. Independence: Observations are independent of each other.\n"
     ]
    }
   ],
   "source": [
    "#10. Describe the regression analysis assumptions and the BLUE principle.\n",
    "\n",
    "\n",
    "print(\"There are four assumptions associated with a linear regression model: Linearity: The relationship between X and the mean of Y is linear. Homoscedasticity: The variance of residual is the same for any value of X. Independence: Observations are independent of each other.\")"
   ]
  },
  {
   "cell_type": "code",
   "execution_count": 11,
   "metadata": {},
   "outputs": [
    {
     "name": "stdout",
     "output_type": "stream",
     "text": [
      "The overall idea of regression is to examine two things: (1) does a set of predictor variables do a good job in predicting an outcome (dependent) variable? (2) Which variables in particular are significant predictors of the outcome variable, and in what way do they–indicated by the magnitude and sign of the beta ...\n"
     ]
    }
   ],
   "source": [
    "#1. Describe two major issues with regression analysis.\n",
    "\n",
    "\n",
    "print(\"The overall idea of regression is to examine two things: (1) does a set of predictor variables do a good job in predicting an outcome (dependent) variable? (2) Which variables in particular are significant predictors of the outcome variable, and in what way do they–indicated by the magnitude and sign of the beta ...\")"
   ]
  },
  {
   "cell_type": "code",
   "execution_count": 12,
   "metadata": {},
   "outputs": [
    {
     "name": "stdout",
     "output_type": "stream",
     "text": [
      "How to improve the accuracy of a Regression Model\n",
      "Handling Null/Missing Values.\n",
      "Data Visualization.\n",
      "Feature Selection and Scaling.\n",
      "3A. Feature Engineering.\n",
      "3B. Feature Transformation.\n",
      "Use of Ensemble and Boosting Algorithms.\n",
      "Hyperparameter Tuning.\n"
     ]
    }
   ],
   "source": [
    "#12. How can the linear regression model's accuracy be improved?\n",
    "\n",
    "\n",
    "print(\"\"\"How to improve the accuracy of a Regression Model\n",
    "Handling Null/Missing Values.\n",
    "Data Visualization.\n",
    "Feature Selection and Scaling.\n",
    "3A. Feature Engineering.\n",
    "3B. Feature Transformation.\n",
    "Use of Ensemble and Boosting Algorithms.\n",
    "Hyperparameter Tuning.\"\"\")"
   ]
  },
  {
   "cell_type": "code",
   "execution_count": 13,
   "metadata": {},
   "outputs": [
    {
     "name": "stdout",
     "output_type": "stream",
     "text": [
      "Polynomial Regression is a form of Linear regression known as a special case of Multiple linear regression which estimates the relationship as an nth degree polynomial. Polynomial Regression is sensitive to outliers so the presence of one or two outliers can also badly affect the performance.\n"
     ]
    }
   ],
   "source": [
    "#13. Using an example, describe the polynomial regression model in detail.\n",
    "\n",
    "\n",
    "print(\"Polynomial Regression is a form of Linear regression known as a special case of Multiple linear regression which estimates the relationship as an nth degree polynomial. Polynomial Regression is sensitive to outliers so the presence of one or two outliers can also badly affect the performance.\")"
   ]
  },
  {
   "cell_type": "code",
   "execution_count": null,
   "metadata": {},
   "outputs": [],
   "source": []
  }
 ],
 "metadata": {
  "kernelspec": {
   "display_name": "Python 3",
   "language": "python",
   "name": "python3"
  },
  "language_info": {
   "codemirror_mode": {
    "name": "ipython",
    "version": 3
   },
   "file_extension": ".py",
   "mimetype": "text/x-python",
   "name": "python",
   "nbconvert_exporter": "python",
   "pygments_lexer": "ipython3",
   "version": "3.7.6"
  }
 },
 "nbformat": 4,
 "nbformat_minor": 4
}
