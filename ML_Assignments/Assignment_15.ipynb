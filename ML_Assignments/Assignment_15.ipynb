{
 "cells": [
  {
   "cell_type": "code",
   "execution_count": 1,
   "metadata": {},
   "outputs": [
    {
     "name": "stdout",
     "output_type": "stream",
     "text": [
      "Difference between semi supervised and supervised learning\n",
      "Supervised learning aims to learn a function that, given a sample of data and desired outputs, approximates a function that maps inputs to outputs. Semi-supervised learning aims to label unlabeled data points using knowledge learned from a small number of labeled data points.\n"
     ]
    }
   ],
   "source": [
    "#1. Recognize the differences between supervised, semi-supervised, and unsupervised learning.\n",
    "\n",
    "print(\"\"\"Difference between semi supervised and supervised learning\n",
    "Supervised learning aims to learn a function that, given a sample of data and desired outputs, approximates a function that maps inputs to outputs. Semi-supervised learning aims to label unlabeled data points using knowledge learned from a small number of labeled data points.\"\"\")"
   ]
  },
  {
   "cell_type": "code",
   "execution_count": 2,
   "metadata": {},
   "outputs": [
    {
     "name": "stdout",
     "output_type": "stream",
     "text": [
      "In machine learning, classification refers to a predictive modeling problem where a class label is predicted for a given example of input data. Examples of classification problems include: Given an example, classify if it is spam or not. Given a handwritten character, classify it as one of the known characters.\n"
     ]
    }
   ],
   "source": [
    "#2. Describe in detail any five examples of classification problems.\n",
    "\n",
    "print(\"In machine learning, classification refers to a predictive modeling problem where a class label is predicted for a given example of input data. Examples of classification problems include: Given an example, classify if it is spam or not. Given a handwritten character, classify it as one of the known characters.\")"
   ]
  },
  {
   "cell_type": "code",
   "execution_count": 5,
   "metadata": {},
   "outputs": [
    {
     "name": "stdout",
     "output_type": "stream",
     "text": [
      "Phases of classification process:- Generally the biomedical data classification process can be divided into four phases, namely (1) data acquisition and segmentation, (2) data preprocessing, (3) feature extraction/dimension reduction, and (4) recognition and classification.\n"
     ]
    }
   ],
   "source": [
    "#3. Describe each phase of the classification process in detail.\n",
    "\n",
    "print(\"Phases of classification process:- Generally the biomedical data classification process can be divided into four phases, namely (1) data acquisition and segmentation, (2) data preprocessing, (3) feature extraction/dimension reduction, and (4) recognition and classification.\")"
   ]
  },
  {
   "cell_type": "code",
   "execution_count": 6,
   "metadata": {},
   "outputs": [
    {
     "name": "stdout",
     "output_type": "stream",
     "text": [
      "“Support Vector Machine” (SVM) is a supervised machine learning algorithm that can be used for both classification or regression challenges.\n"
     ]
    }
   ],
   "source": [
    "#4. Go through the SVM model in depth using various scenarios.\n",
    "\n",
    "print(\"“Support Vector Machine” (SVM) is a supervised machine learning algorithm that can be used for both classification or regression challenges.\")"
   ]
  },
  {
   "cell_type": "code",
   "execution_count": 8,
   "metadata": {},
   "outputs": [
    {
     "name": "stdout",
     "output_type": "stream",
     "text": [
      "SVM Advantages\n",
      "SVM's are very good when we have no idea on the data.\n",
      "Works well with even unstructured and semi structured data like text, Images and trees.\n",
      "The kernel trick is real strength of SVM. ...\n",
      "Unlike in neural networks, SVM is not solved for local optima.\n",
      "It scales relatively well to high dimensional data.\n"
     ]
    }
   ],
   "source": [
    "#5. What are some of the benefits and drawbacks of SVM?\n",
    "\n",
    "print(\"\"\"SVM Advantages\n",
    "SVM's are very good when we have no idea on the data.\n",
    "Works well with even unstructured and semi structured data like text, Images and trees.\n",
    "The kernel trick is real strength of SVM. ...\n",
    "Unlike in neural networks, SVM is not solved for local optima.\n",
    "It scales relatively well to high dimensional data.\"\"\")"
   ]
  },
  {
   "cell_type": "code",
   "execution_count": 10,
   "metadata": {},
   "outputs": [
    {
     "name": "stdout",
     "output_type": "stream",
     "text": [
      "The k-nearest neighbors (KNN) algorithm is a data classification method for estimating the likelihood that a data point will become a member of one group or another based on what group the data points nearest to it belong to.\n"
     ]
    }
   ],
   "source": [
    "#6. Go over the kNN model in depth\n",
    "\n",
    "print(\"The k-nearest neighbors (KNN) algorithm is a data classification method for estimating the likelihood that a data point will become a member of one group or another based on what group the data points nearest to it belong to.\")"
   ]
  },
  {
   "cell_type": "code",
   "execution_count": 11,
   "metadata": {},
   "outputs": [
    {
     "name": "stdout",
     "output_type": "stream",
     "text": [
      "Training error here is the error you'll have when you input your training set to your KNN as test set. When K = 1, you'll choose the closest training sample to your test sample. Since your test sample is in the training dataset, it'll choose itself as the closest and never make mistake.\n"
     ]
    }
   ],
   "source": [
    "#7. Discuss the kNN algorithm's error rate and validation error.\n",
    "\n",
    "\n",
    "print(\"Training error here is the error you'll have when you input your training set to your KNN as test set. When K = 1, you'll choose the closest training sample to your test sample. Since your test sample is in the training dataset, it'll choose itself as the closest and never make mistake.\")"
   ]
  },
  {
   "cell_type": "code",
   "execution_count": 13,
   "metadata": {},
   "outputs": [
    {
     "name": "stdout",
     "output_type": "stream",
     "text": [
      "During training phase, KNN arranges the data (sort of indexing process) in order to find the closest neighbors efficiently during the inference phase. Otherwise, it would have to compare each new case during inference with the whole dataset making it quite inefficient.\n"
     ]
    }
   ],
   "source": [
    "#8. For kNN, talk about how to measure the difference between the test and training results.\n",
    "\n",
    "print(\"During training phase, KNN arranges the data (sort of indexing process) in order to find the closest neighbors efficiently during the inference phase. Otherwise, it would have to compare each new case during inference with the whole dataset making it quite inefficient.\")"
   ]
  },
  {
   "cell_type": "code",
   "execution_count": 15,
   "metadata": {},
   "outputs": [
    {
     "name": "stdout",
     "output_type": "stream",
     "text": [
      "Working of KNN Algorithm\n",
      "Step 1 − For implementing any algorithm, we need dataset. So during the first step of KNN, we must load the training as well as test data.\n",
      "Step 2 − Next, we need to choose the value of K i.e. the nearest data points. ...\n",
      "Step 3 − For each point in the test data do the following −\n",
      "Step 4 − End.\n"
     ]
    }
   ],
   "source": [
    "#9. Create the kNN algorithm.\n",
    "\n",
    "print(\"\"\"Working of KNN Algorithm\n",
    "Step 1 − For implementing any algorithm, we need dataset. So during the first step of KNN, we must load the training as well as test data.\n",
    "Step 2 − Next, we need to choose the value of K i.e. the nearest data points. ...\n",
    "Step 3 − For each point in the test data do the following −\n",
    "Step 4 − End.\"\"\")"
   ]
  },
  {
   "cell_type": "code",
   "execution_count": 16,
   "metadata": {},
   "outputs": [
    {
     "name": "stdout",
     "output_type": "stream",
     "text": [
      "A decision tree starts at a single point (or 'node') which then branches (or 'splits') in two or more directions. Each branch offers different possible outcomes, incorporating a variety of decisions and chance events until a final outcome is achieved.\n"
     ]
    }
   ],
   "source": [
    "#What is a decision tree, exactly? What are the various kinds of nodes? Explain all in depth.\n",
    "\n",
    "print(\"A decision tree starts at a single point (or 'node') which then branches (or 'splits') in two or more directions. Each branch offers different possible outcomes, incorporating a variety of decisions and chance events until a final outcome is achieved.\")"
   ]
  },
  {
   "cell_type": "code",
   "execution_count": 17,
   "metadata": {},
   "outputs": [
    {
     "name": "stdout",
     "output_type": "stream",
     "text": [
      "There are three different types of nodes: chance nodes, decision nodes, and end nodes. A chance node, represented by a circle, shows the probabilities of certain results. A decision node, represented by a square, shows a decision to be made, and an end node shows the final outcome of a decision path.\n"
     ]
    }
   ],
   "source": [
    "#11. Describe the different ways to scan a decision tree.\n",
    "\n",
    "print(\"There are three different types of nodes: chance nodes, decision nodes, and end nodes. A chance node, represented by a circle, shows the probabilities of certain results. A decision node, represented by a square, shows a decision to be made, and an end node shows the final outcome of a decision path.\")"
   ]
  },
  {
   "cell_type": "code",
   "execution_count": 18,
   "metadata": {},
   "outputs": [
    {
     "name": "stdout",
     "output_type": "stream",
     "text": [
      "Introduction. A decision tree is a tree-like graph with nodes representing the place where we pick an attribute and ask a question; edges represent the answers the to the question; and the leaves represent the actual output or class label. They are used in non-linear decision making with simple linear decision surface.\n"
     ]
    }
   ],
   "source": [
    "#12. Describe in depth the decision tree algorithm.\n",
    "print(\"Introduction. A decision tree is a tree-like graph with nodes representing the place where we pick an attribute and ask a question; edges represent the answers the to the question; and the leaves represent the actual output or class label. They are used in non-linear decision making with simple linear decision surface.\")"
   ]
  },
  {
   "cell_type": "code",
   "execution_count": 19,
   "metadata": {},
   "outputs": [
    {
     "name": "stdout",
     "output_type": "stream",
     "text": [
      "The inductive bias (also known as learning bias) of a learning algorithm is the set of assumptions that the learner uses to predict outputs of given inputs that it has not encountered. In machine learning, one aims to construct algorithms that are able to learn to predict a certain target output.\n",
      "\n",
      "Two approaches to avoiding overfitting are distinguished: pre-pruning (generating a tree with fewer branches than would otherwise be the case) and post-pruning (generating a tree in full and then removing parts of it). Results are given for pre-pruning using either a size or a maximum depth cutoff.\n"
     ]
    }
   ],
   "source": [
    "#13. In a decision tree, what is inductive bias? What would you do to stop overfitting?\n",
    "\n",
    "print(\"The inductive bias (also known as learning bias) of a learning algorithm is the set of assumptions that the learner uses to predict outputs of given inputs that it has not encountered. In machine learning, one aims to construct algorithms that are able to learn to predict a certain target output.\")\n",
    "print()\n",
    "print(\"Two approaches to avoiding overfitting are distinguished: pre-pruning (generating a tree with fewer branches than would otherwise be the case) and post-pruning (generating a tree in full and then removing parts of it). Results are given for pre-pruning using either a size or a maximum depth cutoff.\")"
   ]
  },
  {
   "cell_type": "code",
   "execution_count": 20,
   "metadata": {},
   "outputs": [
    {
     "name": "stdout",
     "output_type": "stream",
     "text": [
      "Decision Tree is used to solve both classification and regression problems. But the main drawback of Decision Tree is that it generally leads to overfitting of the data.\n"
     ]
    }
   ],
   "source": [
    "#14.Explain advantages and disadvantages of using a decision tree?\n",
    "\n",
    "\n",
    "print(\"Decision Tree is used to solve both classification and regression problems. But the main drawback of Decision Tree is that it generally leads to overfitting of the data.\")"
   ]
  },
  {
   "cell_type": "code",
   "execution_count": null,
   "metadata": {},
   "outputs": [],
   "source": []
  }
 ],
 "metadata": {
  "kernelspec": {
   "display_name": "Python 3",
   "language": "python",
   "name": "python3"
  },
  "language_info": {
   "codemirror_mode": {
    "name": "ipython",
    "version": 3
   },
   "file_extension": ".py",
   "mimetype": "text/x-python",
   "name": "python",
   "nbconvert_exporter": "python",
   "pygments_lexer": "ipython3",
   "version": "3.7.6"
  }
 },
 "nbformat": 4,
 "nbformat_minor": 4
}
