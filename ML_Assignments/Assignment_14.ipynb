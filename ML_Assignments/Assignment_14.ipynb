{
 "cells": [
  {
   "cell_type": "code",
   "execution_count": 1,
   "metadata": {},
   "outputs": [
    {
     "name": "stdout",
     "output_type": "stream",
     "text": [
      "Supervised learning, also known as supervised machine learning, is a subcategory of machine learning and artificial intelligence. It is defined by its use of labeled datasets to train algorithms that to classify data or predict outcomes accurately.\n"
     ]
    }
   ],
   "source": [
    "#1. What is the concept of supervised learning? What is the significance of the name?\n",
    "\n",
    "print(\"Supervised learning, also known as supervised machine learning, is a subcategory of machine learning and artificial intelligence. It is defined by its use of labeled datasets to train algorithms that to classify data or predict outcomes accurately.\")"
   ]
  },
  {
   "cell_type": "code",
   "execution_count": 2,
   "metadata": {},
   "outputs": [
    {
     "name": "stdout",
     "output_type": "stream",
     "text": [
      "One of the uses of machine learning in healthcare is using optical character recognition (OCR) technology on physicians' handwriting, making the data entry fast and seamless. This data can then be analyzed by other machine learning tools to improve decision-making and patient care\n"
     ]
    }
   ],
   "source": [
    "#2. In the hospital sector, offer an example of supervised learning.\n",
    "\n",
    "print(\"One of the uses of machine learning in healthcare is using optical character recognition (OCR) technology on physicians' handwriting, making the data entry fast and seamless. This data can then be analyzed by other machine learning tools to improve decision-making and patient care\")"
   ]
  },
  {
   "cell_type": "code",
   "execution_count": 3,
   "metadata": {},
   "outputs": [
    {
     "name": "stdout",
     "output_type": "stream",
     "text": [
      "ome popular examples of supervised machine learning algorithms are: Linear regression for regression problems. Random forest for classification and regression problems. Support vector machines for classification problems.\n"
     ]
    }
   ],
   "source": [
    "#3. Give three supervised learning examples.\n",
    "\n",
    "print(\"ome popular examples of supervised machine learning algorithms are: Linear regression for regression problems. Random forest for classification and regression problems. Support vector machines for classification problems.\")"
   ]
  },
  {
   "cell_type": "code",
   "execution_count": 4,
   "metadata": {},
   "outputs": [
    {
     "name": "stdout",
     "output_type": "stream",
     "text": [
      "Regression and Classification algorithms are Supervised Learning algorithms. Both the algorithms are used for prediction in Machine learning and work with the labeled datasets. But the difference between both is how they are used for different machine learning problems.\n"
     ]
    }
   ],
   "source": [
    "#4. In supervised learning, what are classification and regression?\n",
    "\n",
    "print(\"Regression and Classification algorithms are Supervised Learning algorithms. Both the algorithms are used for prediction in Machine learning and work with the labeled datasets. But the difference between both is how they are used for different machine learning problems.\")"
   ]
  },
  {
   "cell_type": "code",
   "execution_count": 5,
   "metadata": {},
   "outputs": [
    {
     "name": "stdout",
     "output_type": "stream",
     "text": [
      "Popular Classification Algorithms:\n",
      "Logistic Regression.\n",
      "Naive Bayes.\n",
      "K-Nearest Neighbors.\n",
      "Decision Tree.\n",
      "Support Vector Machines.\n"
     ]
    }
   ],
   "source": [
    "#5. Give some popular classification algorithms as examples.\n",
    "\n",
    "print(\"\"\"Popular Classification Algorithms:\n",
    "Logistic Regression.\n",
    "Naive Bayes.\n",
    "K-Nearest Neighbors.\n",
    "Decision Tree.\n",
    "Support Vector Machines.\"\"\")"
   ]
  },
  {
   "cell_type": "code",
   "execution_count": 6,
   "metadata": {},
   "outputs": [
    {
     "name": "stdout",
     "output_type": "stream",
     "text": [
      "Support Vector Machine(SVM) is a supervised machine learning algorithm used for both classification and regression. Though we say regression problems as well its best suited for classification. The objective of SVM algorithm is to find a hyperplane in an N-dimensional space that distinctly classifies the data points.\n"
     ]
    }
   ],
   "source": [
    "#6. Briefly describe the SVM model.\n",
    "\n",
    "print(\"Support Vector Machine(SVM) is a supervised machine learning algorithm used for both classification and regression. Though we say regression problems as well its best suited for classification. The objective of SVM algorithm is to find a hyperplane in an N-dimensional space that distinctly classifies the data points.\")"
   ]
  },
  {
   "cell_type": "code",
   "execution_count": 7,
   "metadata": {},
   "outputs": [
    {
     "name": "stdout",
     "output_type": "stream",
     "text": [
      "In cost-sensitive learning instead of each instance being either correctly or incorrectly classified, each class (or instance) is given a misclassification cost. Thus, instead of trying to optimize the accuracy, the problem is then to minimize the total misclassification cost.\n"
     ]
    }
   ],
   "source": [
    "#7. In SVM, what is the cost of misclassification?\n",
    "\n",
    "\n",
    "print(\"In cost-sensitive learning instead of each instance being either correctly or incorrectly classified, each class (or instance) is given a misclassification cost. Thus, instead of trying to optimize the accuracy, the problem is then to minimize the total misclassification cost.\")"
   ]
  },
  {
   "cell_type": "code",
   "execution_count": 8,
   "metadata": {},
   "outputs": [
    {
     "name": "stdout",
     "output_type": "stream",
     "text": [
      "The data points or vectors that are the closest to the hyperplane and which affect the position of the hyperplane are termed as Support Vector. Since these vectors support the hyperplane, hence called a Support vector.\n"
     ]
    }
   ],
   "source": [
    "#8. In the SVM model, define Support Vectors.\n",
    "\n",
    "print(\"The data points or vectors that are the closest to the hyperplane and which affect the position of the hyperplane are termed as Support Vector. Since these vectors support the hyperplane, hence called a Support vector.\")"
   ]
  },
  {
   "cell_type": "code",
   "execution_count": 9,
   "metadata": {},
   "outputs": [
    {
     "name": "stdout",
     "output_type": "stream",
     "text": [
      "“Kernel” is used due to a set of mathematical functions used in Support Vector Machine providing the window to manipulate the data. So, Kernel Function generally transforms the training set of data so that a non-linear decision surface is able to transform to a linear equation in a higher number of dimension spaces.\n"
     ]
    }
   ],
   "source": [
    "#9. In the SVM model, define the kernel.\n",
    "\n",
    "\n",
    "print(\"“Kernel” is used due to a set of mathematical functions used in Support Vector Machine providing the window to manipulate the data. So, Kernel Function generally transforms the training set of data so that a non-linear decision surface is able to transform to a linear equation in a higher number of dimension spaces.\")"
   ]
  },
  {
   "cell_type": "code",
   "execution_count": 11,
   "metadata": {},
   "outputs": [
    {
     "name": "stdout",
     "output_type": "stream",
     "text": [
      "Support vector machine works comparably well when there is an understandable margin of dissociation between classes. It is more productive in high dimensional spaces. It is effective in instances where the number of dimensions is larger than the number of specimens.\n"
     ]
    }
   ],
   "source": [
    "#11. What are the benefits of using the SVM model?\n",
    "\n",
    "print(\"Support vector machine works comparably well when there is an understandable margin of dissociation between classes. It is more productive in high dimensional spaces. It is effective in instances where the number of dimensions is larger than the number of specimens.\")"
   ]
  },
  {
   "cell_type": "code",
   "execution_count": 12,
   "metadata": {},
   "outputs": [
    {
     "name": "stdout",
     "output_type": "stream",
     "text": [
      "SVM algorithm is not suitable for large data sets. SVM does not perform very well when the data set has more noise i.e. target classes are overlapping. In cases where the number of features for each data point exceeds the number of training data samples, the SVM will underperform.\n"
     ]
    }
   ],
   "source": [
    "#12.  What are the drawbacks of using the SVM model?\n",
    "\n",
    "print(\"SVM algorithm is not suitable for large data sets. SVM does not perform very well when the data set has more noise i.e. target classes are overlapping. In cases where the number of features for each data point exceeds the number of training data samples, the SVM will underperform.\")"
   ]
  },
  {
   "cell_type": "code",
   "execution_count": 13,
   "metadata": {},
   "outputs": [
    {
     "name": "stdout",
     "output_type": "stream",
     "text": [
      "First let us try to understand what exactly does K influence in the algorithm. If we see the last example, given that all the 6 training observation remain constant, with a given K value we can make boundaries of each class. These boundaries will segregate RC from GS. In the same way, let’s try to see the effect of value “K” on the class boundaries. The following are the different boundaries separating the two classes with different values of K.\n",
      "\n",
      "\n",
      "First let us try to understand what exactly does K influence in the algorithm. If we see the last example, given that all the 6 training observation remain constant, with a given K value we can make boundaries of each class. These boundaries will segregate RC from GS. In the same way, let’s try to see the effect of value “K” on the class boundaries. The following are the different boundaries separating the two classes with different values of K.\n",
      "\n",
      "\n",
      "The inductive bias (also known as learning bias) of a learning algorithm is the set of assumptions that the learner uses to predict outputs of given inputs that it has not encountered. In machine learning, one aims to construct algorithms that are able to learn to predict a certain target output.\n"
     ]
    }
   ],
   "source": [
    "#13. Notes should be written on\n",
    "\n",
    "#1. The kNN algorithm has a validation flaw.\n",
    "print(\"First let us try to understand what exactly does K influence in the algorithm. If we see the last example, given that all the 6 training observation remain constant, with a given K value we can make boundaries of each class. These boundaries will segregate RC from GS. In the same way, let’s try to see the effect of value “K” on the class boundaries. The following are the different boundaries separating the two classes with different values of K.\")\n",
    "print()\n",
    "print()\n",
    "#2. In the kNN algorithm, the k value is chosen.\n",
    "print(\"First let us try to understand what exactly does K influence in the algorithm. If we see the last example, given that all the 6 training observation remain constant, with a given K value we can make boundaries of each class. These boundaries will segregate RC from GS. In the same way, let’s try to see the effect of value “K” on the class boundaries. The following are the different boundaries separating the two classes with different values of K.\")\n",
    "print()\n",
    "#3. A decision tree with inductive bias\n",
    "print()\n",
    "print(\"The inductive bias (also known as learning bias) of a learning algorithm is the set of assumptions that the learner uses to predict outputs of given inputs that it has not encountered. In machine learning, one aims to construct algorithms that are able to learn to predict a certain target output.\")"
   ]
  },
  {
   "cell_type": "code",
   "execution_count": 15,
   "metadata": {},
   "outputs": [
    {
     "name": "stdout",
     "output_type": "stream",
     "text": [
      "\n",
      "Simple to implement and intuitive to understand.\n",
      "Can learn non-linear decision boundaries when used for classfication and regression. ...\n",
      "No Training Time for classification/regression : The KNN algorithm has no explicit training step and all the work happens during prediction.\n"
     ]
    }
   ],
   "source": [
    "#14. What are some of the benefits of the kNN algorithm?\n",
    "\n",
    "print(\"\"\"\n",
    "Simple to implement and intuitive to understand.\n",
    "Can learn non-linear decision boundaries when used for classfication and regression. ...\n",
    "No Training Time for classification/regression : The KNN algorithm has no explicit training step and all the work happens during prediction.\"\"\")"
   ]
  },
  {
   "cell_type": "code",
   "execution_count": 17,
   "metadata": {},
   "outputs": [
    {
     "name": "stdout",
     "output_type": "stream",
     "text": [
      "Does not work well with large dataset as calculating distances between each data instance would be very costly.\n",
      "Does not work well with high dimensionality as this will complicate the distance calculating process to calculate distance for each dimension.\n",
      "Sensitive to noisy and missing data.\n"
     ]
    }
   ],
   "source": [
    "#15. What are some of the kNN algorithm's drawbacks?\n",
    "\n",
    "print(\"\"\"Does not work well with large dataset as calculating distances between each data instance would be very costly.\n",
    "Does not work well with high dimensionality as this will complicate the distance calculating process to calculate distance for each dimension.\n",
    "Sensitive to noisy and missing data.\"\"\")"
   ]
  },
  {
   "cell_type": "code",
   "execution_count": 19,
   "metadata": {},
   "outputs": [
    {
     "name": "stdout",
     "output_type": "stream",
     "text": [
      "Decision Tree algorithm belongs to the family of supervised learning algorithms. Unlike other supervised learning algorithms, the decision tree algorithm can be used for solving regression and classification problems too.\n"
     ]
    }
   ],
   "source": [
    "#16. Explain the decision tree algorithm in a few words.\n",
    "\n",
    "print(\"Decision Tree algorithm belongs to the family of supervised learning algorithms. Unlike other supervised learning algorithms, the decision tree algorithm can be used for solving regression and classification problems too.\")"
   ]
  },
  {
   "cell_type": "code",
   "execution_count": null,
   "metadata": {},
   "outputs": [],
   "source": []
  }
 ],
 "metadata": {
  "kernelspec": {
   "display_name": "Python 3",
   "language": "python",
   "name": "python3"
  },
  "language_info": {
   "codemirror_mode": {
    "name": "ipython",
    "version": 3
   },
   "file_extension": ".py",
   "mimetype": "text/x-python",
   "name": "python",
   "nbconvert_exporter": "python",
   "pygments_lexer": "ipython3",
   "version": "3.7.6"
  }
 },
 "nbformat": 4,
 "nbformat_minor": 4
}
