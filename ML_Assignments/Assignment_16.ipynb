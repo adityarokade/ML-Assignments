{
 "cells": [
  {
   "cell_type": "code",
   "execution_count": 1,
   "metadata": {},
   "outputs": [
    {
     "name": "stdout",
     "output_type": "stream",
     "text": [
      "A dependent variable represents a quantity whose value depends on how the independent variable is manipulated. y is often the variable used to represent the dependent variable in an equation.\n"
     ]
    }
   ],
   "source": [
    "#1. In a linear equation, what is the difference between a dependent variable and an independent variable?\n",
    "\n",
    "print(\"A dependent variable represents a quantity whose value depends on how the independent variable is manipulated. y is often the variable used to represent the dependent variable in an equation.\")"
   ]
  },
  {
   "cell_type": "code",
   "execution_count": 2,
   "metadata": {},
   "outputs": [
    {
     "name": "stdout",
     "output_type": "stream",
     "text": [
      "Regression allows you to estimate how a dependent variable changes as the independent variable(s) change. Simple linear regression is used to estimate the relationship between two quantitative variables.\n"
     ]
    }
   ],
   "source": [
    "#2. What is the concept of simple linear regression? Give a specific example.\n",
    "\n",
    "print(\"Regression allows you to estimate how a dependent variable changes as the independent variable(s) change. Simple linear regression is used to estimate the relationship between two quantitative variables.\")"
   ]
  },
  {
   "cell_type": "code",
   "execution_count": 4,
   "metadata": {},
   "outputs": [
    {
     "name": "stdout",
     "output_type": "stream",
     "text": [
      "In the linear regression formula, the slope is the a in the equation y' = b + ax.\n"
     ]
    }
   ],
   "source": [
    "#3. In a linear regression, define the slope.\n",
    "\n",
    "print(\"In the linear regression formula, the slope is the a in the equation y' = b + ax.\")"
   ]
  },
  {
   "cell_type": "code",
   "execution_count": 6,
   "metadata": {},
   "outputs": [
    {
     "name": "stdout",
     "output_type": "stream",
     "text": [
      "The slope of a line is a measure of its steepness. Mathematically, slope is calculated as 'rise over run' (change in y divided by change in x).\n"
     ]
    }
   ],
   "source": [
    "#4. Determine the graph's slope, where the lower point on the line is represented as (3, 2) and the higher point is represented as (2, 2).\n",
    "\n",
    "\n",
    "print(\"The slope of a line is a measure of its steepness. Mathematically, slope is calculated as 'rise over run' (change in y divided by change in x).\")"
   ]
  },
  {
   "cell_type": "code",
   "execution_count": 8,
   "metadata": {},
   "outputs": [
    {
     "name": "stdout",
     "output_type": "stream",
     "text": [
      "In summary, if the slope is positive, y increases as x increases, and the function runs uphill (going left to right). If the slope is negative, y decreases as x increases and the function runs downhill. If the slope is zero, y does not change, thus is constant—a horizontal line.\n"
     ]
    }
   ],
   "source": [
    "#5. In linear regression, what are the conditions for a positive slope?\n",
    "\n",
    "print(\"In summary, if the slope is positive, y increases as x increases, and the function runs uphill (going left to right). If the slope is negative, y decreases as x increases and the function runs downhill. If the slope is zero, y does not change, thus is constant—a horizontal line.\")"
   ]
  },
  {
   "cell_type": "code",
   "execution_count": 9,
   "metadata": {},
   "outputs": [
    {
     "name": "stdout",
     "output_type": "stream",
     "text": [
      "If the slope is negative, y decreases as x increases and the function runs downhill. If the slope is zero, y does not change, thus is constant—a horizontal line.\n"
     ]
    }
   ],
   "source": [
    "#6. In linear regression, what are the conditions for a negative slope?\n",
    "\n",
    "print(\"If the slope is negative, y decreases as x increases and the function runs downhill. If the slope is zero, y does not change, thus is constant—a horizontal line.\")"
   ]
  },
  {
   "cell_type": "code",
   "execution_count": 10,
   "metadata": {},
   "outputs": [
    {
     "name": "stdout",
     "output_type": "stream",
     "text": [
      "Multiple linear regression (MLR), also known simply as multiple regression, is a statistical technique that uses several explanatory variables to predict the outcome of a response variable. Multiple regression is an extension of linear (OLS) regression that uses just one explanatory variable.\n"
     ]
    }
   ],
   "source": [
    "#7. What is multiple linear regression and how does it work?\n",
    "\n",
    "print(\"Multiple linear regression (MLR), also known simply as multiple regression, is a statistical technique that uses several explanatory variables to predict the outcome of a response variable. Multiple regression is an extension of linear (OLS) regression that uses just one explanatory variable.\")"
   ]
  },
  {
   "cell_type": "code",
   "execution_count": 11,
   "metadata": {},
   "outputs": [
    {
     "name": "stdout",
     "output_type": "stream",
     "text": [
      "A residual (error) term is calculated as e i = y i − y ^ i , the difference between an actual and a predicted value of y.\n"
     ]
    }
   ],
   "source": [
    "#8. In multiple linear regression, define the number of squares due to error.\n",
    "\n",
    "\n",
    "print(\"A residual (error) term is calculated as e i = y i − y ^ i , the difference between an actual and a predicted value of y.\")"
   ]
  },
  {
   "cell_type": "code",
   "execution_count": 12,
   "metadata": {},
   "outputs": [
    {
     "name": "stdout",
     "output_type": "stream",
     "text": [
      "What makes a multiple regression multiple? A multiple regression considers the effect of more than one explanatory variable on some outcome of interest. It evaluates the relative effect of these explanatory, or independent, variables on the dependent variable when holding all the other variables in the model constant.\n"
     ]
    }
   ],
   "source": [
    "#9. In multiple linear regression, define the number of squares due to regression.\n",
    "\n",
    "\n",
    "print(\"What makes a multiple regression multiple? A multiple regression considers the effect of more than one explanatory variable on some outcome of interest. It evaluates the relative effect of these explanatory, or independent, variables on the dependent variable when holding all the other variables in the model constant.\")"
   ]
  },
  {
   "cell_type": "code",
   "execution_count": 13,
   "metadata": {},
   "outputs": [
    {
     "name": "stdout",
     "output_type": "stream",
     "text": [
      "Multicollinearity occurs when two or more independent variables are highly correlated with one another in a regression model. This means that an independent variable can be predicted from another independent variable in a regression model.\n"
     ]
    }
   ],
   "source": [
    "#In a regression equation, what is multicollinearity?\n",
    "\n",
    "print(\"Multicollinearity occurs when two or more independent variables are highly correlated with one another in a regression model. This means that an independent variable can be predicted from another independent variable in a regression model.\")"
   ]
  },
  {
   "cell_type": "code",
   "execution_count": 14,
   "metadata": {},
   "outputs": [
    {
     "name": "stdout",
     "output_type": "stream",
     "text": [
      "In statistics, heteroskedasticity (or heteroscedasticity) happens when the standard deviations of a predicted variable, monitored over different values of an independent variable or as related to prior time periods, are non-constant.\n"
     ]
    }
   ],
   "source": [
    "#11. What is heteroskedasticity, and what does it mean?\n",
    "\n",
    "print(\"In statistics, heteroskedasticity (or heteroscedasticity) happens when the standard deviations of a predicted variable, monitored over different values of an independent variable or as related to prior time periods, are non-constant.\")"
   ]
  },
  {
   "cell_type": "code",
   "execution_count": 15,
   "metadata": {},
   "outputs": [
    {
     "name": "stdout",
     "output_type": "stream",
     "text": [
      "Ridge regression is a model tuning method that is used to analyse any data that suffers from multicollinearity. This method performs L2 regularization. When the issue of multicollinearity occurs, least-squares are unbiased, and variances are large, this results in predicted values being far away from the actual values.\n"
     ]
    }
   ],
   "source": [
    "#12. Describe the concept of ridge regression.\n",
    "\n",
    "\n",
    "print(\"Ridge regression is a model tuning method that is used to analyse any data that suffers from multicollinearity. This method performs L2 regularization. When the issue of multicollinearity occurs, least-squares are unbiased, and variances are large, this results in predicted values being far away from the actual values.\")"
   ]
  },
  {
   "cell_type": "code",
   "execution_count": 16,
   "metadata": {},
   "outputs": [
    {
     "name": "stdout",
     "output_type": "stream",
     "text": [
      "In statistics and machine learning, lasso (least absolute shrinkage and selection operator; also Lasso or LASSO) is a regression analysis method that performs both variable selection and regularization in order to enhance the prediction accuracy and interpretability of the resulting statistical model.\n"
     ]
    }
   ],
   "source": [
    "#13. Describe the concept of lasso regression.\n",
    "\n",
    "print(\"In statistics and machine learning, lasso (least absolute shrinkage and selection operator; also Lasso or LASSO) is a regression analysis method that performs both variable selection and regularization in order to enhance the prediction accuracy and interpretability of the resulting statistical model.\")"
   ]
  },
  {
   "cell_type": "code",
   "execution_count": 18,
   "metadata": {},
   "outputs": [
    {
     "name": "stdout",
     "output_type": "stream",
     "text": [
      "Polynomial Regression is a form of Linear regression known as a special case of Multiple linear regression which estimates the relationship as an nth degree polynomial. Polynomial Regression is sensitive to outliers so the presence of one or two outliers can also badly affect the performance.\n"
     ]
    }
   ],
   "source": [
    "#14. What is polynomial regression and how does it work?\n",
    "\n",
    "print(\"Polynomial Regression is a form of Linear regression known as a special case of Multiple linear regression which estimates the relationship as an nth degree polynomial. Polynomial Regression is sensitive to outliers so the presence of one or two outliers can also badly affect the performance.\")"
   ]
  },
  {
   "cell_type": "code",
   "execution_count": null,
   "metadata": {},
   "outputs": [],
   "source": []
  }
 ],
 "metadata": {
  "kernelspec": {
   "display_name": "Python 3",
   "language": "python",
   "name": "python3"
  },
  "language_info": {
   "codemirror_mode": {
    "name": "ipython",
    "version": 3
   },
   "file_extension": ".py",
   "mimetype": "text/x-python",
   "name": "python",
   "nbconvert_exporter": "python",
   "pygments_lexer": "ipython3",
   "version": "3.7.6"
  }
 },
 "nbformat": 4,
 "nbformat_minor": 4
}
