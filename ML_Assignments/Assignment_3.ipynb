{
 "cells": [
  {
   "cell_type": "code",
   "execution_count": 1,
   "metadata": {},
   "outputs": [
    {
     "name": "stdout",
     "output_type": "stream",
     "text": [
      "Image result for 1.Explain the term machine learning, and how does it work? Explain two machine learning applications in the business world. What are some of the ethical concerns that machine learning applications could raise? Machine learning (ML) is a type of artificial intelligence (AI) that allows software applications to become more accurate at predicting outcomes without being explicitly programmed to do so. Machine learning algorithms use historical data as input to predict new output values.\n"
     ]
    }
   ],
   "source": [
    "#1.Explain the term machine learning, and how does it work? Explain two machine learning applications in the business world. What are some of the ethical concerns that machine learning applications could raise?\n",
    "\n",
    "\n",
    "print(\"Image result for 1.Explain the term machine learning, and how does it work? Explain two machine learning applications in the business world. What are some of the ethical concerns that machine learning applications could raise? Machine learning (ML) is a type of artificial intelligence (AI) that allows software applications to become more accurate at predicting outcomes without being explicitly programmed to do so. Machine learning algorithms use historical data as input to predict new output values.\")"
   ]
  },
  {
   "cell_type": "code",
   "execution_count": null,
   "metadata": {},
   "outputs": [],
   "source": [
    "#2. Describe the process of human learning:\n",
    "#           i. Under the supervision of experts\n",
    "\n",
    " #          ii. With the assistance of experts in an indirect manner\n",
    "\n",
    " #           iii. Self-education\n",
    "\n",
    "\n",
    "\n"
   ]
  },
  {
   "cell_type": "code",
   "execution_count": 2,
   "metadata": {},
   "outputs": [
    {
     "name": "stdout",
     "output_type": "stream",
     "text": [
      "There are mainly 3 types of machine learning.1.Supervised machine learning2.Unsupervised machine learning3.Semisupervised machine learning \n"
     ]
    }
   ],
   "source": [
    "#3. Provide a few examples of various types of machine learning.\n",
    "\n",
    "print(\"There are mainly 3 types of machine learning.\"\n",
    "     \"1.Supervised machine learning\"\n",
    "     \"2.Unsupervised machine learning\"\n",
    "     \"3.Semisupervised machine learning \")"
   ]
  },
  {
   "cell_type": "code",
   "execution_count": 3,
   "metadata": {},
   "outputs": [
    {
     "name": "stdout",
     "output_type": "stream",
     "text": [
      "Machine learning is a part of artificial intelligence.and it has 3 types as follwes:-1.Supervised machine learning2.Unsupervised machine learning3.Semisupervised machine learning And in that there are two types of probles solved-Regression and Classification \n"
     ]
    }
   ],
   "source": [
    "#4. Examine the various forms of machine learning.\n",
    "\n",
    "\n",
    "\n",
    "print(\"Machine learning is a part of artificial intelligence.and it has 3 types as follwes:-\"\n",
    "     \"1.Supervised machine learning\"\n",
    "     \"2.Unsupervised machine learning\"\n",
    "     \"3.Semisupervised machine learning \"\n",
    "     \"And in that there are two types of probles solved-Regression and Classification \")"
   ]
  },
  {
   "cell_type": "code",
   "execution_count": 5,
   "metadata": {},
   "outputs": [
    {
     "name": "stdout",
     "output_type": "stream",
     "text": [
      "A computer program is said to learn from experience E in context to some task T and some performance measure P, if its performance on T, as was measured by P, upgrades with experience E.Any problem can be segregated as well-posed learning problem if it has three traits – TaskPerformance MeasureExperience \n"
     ]
    }
   ],
   "source": [
    "#5. Can you explain what a well-posed learning problem is? Explain the main characteristics that must be present to identify a learning problem properly.\n",
    "\n",
    "\n",
    "print(\"A computer program is said to learn from experience E in context to some task T and some performance measure P, if its performance on T, as was measured by P, upgrades with experience E.\" \n",
    "\n",
    "\"Any problem can be segregated as well-posed learning problem if it has three traits – \"\n",
    "\n",
    "\"Task\"\n",
    "\"Performance Measure\" \n",
    "\"Experience \")"
   ]
  },
  {
   "cell_type": "code",
   "execution_count": 6,
   "metadata": {},
   "outputs": [
    {
     "name": "stdout",
     "output_type": "stream",
     "text": [
      "No,Machine learning cann't solve the every problem but most of the problems are solved by machine learning ,and some are solved accuretly.\n"
     ]
    }
   ],
   "source": [
    "#6. Is machine learning capable of solving all problems? Give a detailed explanation of your answer.\n",
    "\n",
    "print(\"No,Machine learning cann't solve the every problem but most of the problems are solved by machine learning ,and some are solved accuretly.\")"
   ]
  },
  {
   "cell_type": "code",
   "execution_count": 7,
   "metadata": {},
   "outputs": [
    {
     "name": "stdout",
     "output_type": "stream",
     "text": [
      "There are many methods and technologies which are used to solve the machine learning problems,Some are as followsRegression-In regression we can solve the problem in which we want the exact number or quentity (continues )Classification-In classification we want the prediction in classesClustering-This is used to create the Groups(clusters)etc.\n"
     ]
    }
   ],
   "source": [
    "#7. What are the various methods and technologies for solving machine learning problems? Any two of them should be defined in detail.\n",
    "\n",
    "\n",
    "\n",
    "print(\"There are many methods and technologies which are used to solve the machine learning problems,Some are as follows\"\n",
    "     \"Regression-In regression we can solve the problem in which we want the exact number or quentity (continues )\"\n",
    "     \"Classification-In classification we want the prediction in classes\"\n",
    "     \"Clustering-This is used to create the Groups(clusters)\"\n",
    "     \"etc.\")"
   ]
  },
  {
   "cell_type": "code",
   "execution_count": 8,
   "metadata": {},
   "outputs": [
    {
     "name": "stdout",
     "output_type": "stream",
     "text": [
      "There are mainly two types in supervised learning1.Regression-In regression we can solve the problem in which we want the exact number or quentity (continues ).ex-store scales predictionClassification-In classification we want the prediction in classes.ex-The Emails are spam or not\n"
     ]
    }
   ],
   "source": [
    "#8. Can you explain the various forms of supervised learning? Explain each one with an example application.\n",
    "\n",
    "\n",
    "print(\"There are mainly two types in supervised learning\"\n",
    "     \"1.Regression-In regression we can solve the problem in which we want the exact number or quentity (continues ).ex-store scales prediction\"\n",
    "     \"Classification-In classification we want the prediction in classes.ex-The Emails are spam or not\")"
   ]
  },
  {
   "cell_type": "code",
   "execution_count": 9,
   "metadata": {},
   "outputs": [
    {
     "name": "stdout",
     "output_type": "stream",
     "text": [
      "1.In supervised learning To train a model we give the Features as well as lable but in unsupervised we not give the lable to train modelThe most commonly used Supervised Learning algorithms are decision tree, logistic regression, linear regression, support vector machine. The most commonly used Unsupervised Learning algorithms are k-means clustering, hierarchical clustering, and apriori algorithm\n"
     ]
    }
   ],
   "source": [
    "#9. What is the difference between supervised and unsupervised learning? With a sample application in each region, explain the differences.\n",
    "\n",
    "\n",
    "print(\"1.In supervised learning To train a model we give the Features as well as lable but in unsupervised we not give the lable to train model\"\n",
    "     \"The most commonly used Supervised Learning algorithms are decision tree, logistic regression, linear regression, support vector machine. The most commonly used Unsupervised Learning algorithms are k-means clustering, hierarchical clustering, and apriori algorithm\")"
   ]
  },
  {
   "cell_type": "code",
   "execution_count": 10,
   "metadata": {},
   "outputs": [
    {
     "name": "stdout",
     "output_type": "stream",
     "text": [
      "The practice of machine learning involves taking data, examining it for patterns and developing some sort of prediction about future outcomes. By feeding an algorithm more data over time, data scientists can sharpen the machine learning model's predictions.\n"
     ]
    }
   ],
   "source": [
    "#10. Describe the machine learning process in depth.\n",
    "\n",
    "\n",
    "print(\"The practice of machine learning involves taking data, examining it for patterns and developing some sort of prediction about future outcomes. By feeding an algorithm more data over time, data scientists can sharpen the machine learning model's predictions.\")"
   ]
  },
  {
   "cell_type": "code",
   "execution_count": null,
   "metadata": {},
   "outputs": [],
   "source": []
  }
 ],
 "metadata": {
  "kernelspec": {
   "display_name": "Python 3",
   "language": "python",
   "name": "python3"
  },
  "language_info": {
   "codemirror_mode": {
    "name": "ipython",
    "version": 3
   },
   "file_extension": ".py",
   "mimetype": "text/x-python",
   "name": "python",
   "nbconvert_exporter": "python",
   "pygments_lexer": "ipython3",
   "version": "3.7.6"
  }
 },
 "nbformat": 4,
 "nbformat_minor": 4
}
