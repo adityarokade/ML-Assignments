{
 "cells": [
  {
   "cell_type": "code",
   "execution_count": 1,
   "metadata": {},
   "outputs": [
    {
     "name": "stdout",
     "output_type": "stream",
     "text": [
      "Supervised learning algorithms are trained using labeled data. Unsupervised learning algorithms are trained using unlabeled data. Supervised learning model takes direct feedback to check if it is predicting correct output or not. Unsupervised learning model does not take any feedback.\n"
     ]
    }
   ],
   "source": [
    "#1. What is the difference between supervised and unsupervised learning? Give some examples to illustrate your point?\n",
    "\n",
    "print(\"Supervised learning algorithms are trained using labeled data. Unsupervised learning algorithms are trained using unlabeled data. Supervised learning model takes direct feedback to check if it is predicting correct output or not. Unsupervised learning model does not take any feedback.\")"
   ]
  },
  {
   "cell_type": "code",
   "execution_count": 2,
   "metadata": {},
   "outputs": [
    {
     "name": "stdout",
     "output_type": "stream",
     "text": [
      "The main applications of unsupervised learning include clustering, visualization, dimensionality reduction, finding association rules, and anomaly detection.\n"
     ]
    }
   ],
   "source": [
    "#2. Mention a few unsupervised learning applications.\n",
    "\n",
    "print(\"The main applications of unsupervised learning include clustering, visualization, dimensionality reduction, finding association rules, and anomaly detection.\")"
   ]
  },
  {
   "cell_type": "code",
   "execution_count": 3,
   "metadata": {},
   "outputs": [
    {
     "name": "stdout",
     "output_type": "stream",
     "text": [
      "What are the different categories of clustering methods?\n",
      "The various types of clustering are:\n",
      "Connectivity-based Clustering (Hierarchical clustering)\n",
      "Centroids-based Clustering (Partitioning methods)\n",
      "Distribution-based Clustering.\n",
      "Density-based Clustering (Model-based methods)\n",
      "Fuzzy Clustering.\n",
      "Constraint-based (Supervised Clustering)\n"
     ]
    }
   ],
   "source": [
    "#3. What are the three main types of clustering methods? Briefly describe the characteristics of each.\n",
    "\n",
    "print(\"\"\"What are the different categories of clustering methods?\n",
    "The various types of clustering are:\n",
    "Connectivity-based Clustering (Hierarchical clustering)\n",
    "Centroids-based Clustering (Partitioning methods)\n",
    "Distribution-based Clustering.\n",
    "Density-based Clustering (Model-based methods)\n",
    "Fuzzy Clustering.\n",
    "Constraint-based (Supervised Clustering)\"\"\")"
   ]
  },
  {
   "cell_type": "code",
   "execution_count": 5,
   "metadata": {},
   "outputs": [
    {
     "name": "stdout",
     "output_type": "stream",
     "text": [
      "In k-means clustering, the number of clusters that you want to divide your data points into i.e., the value of K has to be pre-determined whereas in Hierarchical clustering data is automatically formed into a tree shape form (dendrogram).\n"
     ]
    }
   ],
   "source": [
    "#4. Explain how the k-means algorithm determines the consistency of clustering.\n",
    "\n",
    "print(\"In k-means clustering, the number of clusters that you want to divide your data points into i.e., the value of K has to be pre-determined whereas in Hierarchical clustering data is automatically formed into a tree shape form (dendrogram).\")"
   ]
  },
  {
   "cell_type": "code",
   "execution_count": 6,
   "metadata": {},
   "outputs": [
    {
     "name": "stdout",
     "output_type": "stream",
     "text": [
      "K-means attempts to minimize the total squared error, while k-medoids minimizes the sum of dissimilarities between points labeled to be in a cluster and a point designated as the center of that cluster. In contrast to the k -means algorithm, k -medoids chooses datapoints as centers ( medoids or exemplars).\n"
     ]
    }
   ],
   "source": [
    "#5. With a simple illustration, explain the key difference between the k-means and k-medoids algorithms.\n",
    "\n",
    "print(\"K-means attempts to minimize the total squared error, while k-medoids minimizes the sum of dissimilarities between points labeled to be in a cluster and a point designated as the center of that cluster. In contrast to the k -means algorithm, k -medoids chooses datapoints as centers ( medoids or exemplars).\")"
   ]
  },
  {
   "cell_type": "code",
   "execution_count": 7,
   "metadata": {},
   "outputs": [
    {
     "name": "stdout",
     "output_type": "stream",
     "text": [
      "A dendrogram is a diagram that shows the hierarchical relationship between objects. It is most commonly created as an output from hierarchical clustering. The main use of a dendrogram is to work out the best way to allocate objects to clusters.\n"
     ]
    }
   ],
   "source": [
    "#6. What is a dendrogram, and how does it work? Explain how to do it.\n",
    "\n",
    "print(\"A dendrogram is a diagram that shows the hierarchical relationship between objects. It is most commonly created as an output from hierarchical clustering. The main use of a dendrogram is to work out the best way to allocate objects to clusters.\")"
   ]
  },
  {
   "cell_type": "code",
   "execution_count": 8,
   "metadata": {},
   "outputs": [
    {
     "name": "stdout",
     "output_type": "stream",
     "text": [
      "sum of squared error\n",
      "One of the method is known as elbow method. First of all compute the sum of squared error(SSE) for some value of K. SSE is defined as the sum of the squared distance between centroid and each member of the cluster.\n"
     ]
    }
   ],
   "source": [
    "#. What exactly is SSE? What role does it play in the k-means algorithm?\n",
    "\n",
    "print(\"\"\"sum of squared error\n",
    "One of the method is known as elbow method. First of all compute the sum of squared error(SSE) for some value of K. SSE is defined as the sum of the squared distance between centroid and each member of the cluster.\"\"\")"
   ]
  },
  {
   "cell_type": "code",
   "execution_count": 10,
   "metadata": {},
   "outputs": [
    {
     "name": "stdout",
     "output_type": "stream",
     "text": [
      "How does the K-Means Algorithm Work?\n",
      "Step-1: Select the number K to decide the number of clusters.\n",
      "Step-2: Select random K points or centroids. ...\n",
      "Step-3: Assign each data point to their closest centroid, which will form the predefined K clusters.\n",
      "Step-4: Calculate the variance and place a new centroid of each cluster.\n"
     ]
    }
   ],
   "source": [
    "#8. With a step-by-step algorithm, explain the k-means procedure.\n",
    "\n",
    "\n",
    "print(\"\"\"How does the K-Means Algorithm Work?\n",
    "Step-1: Select the number K to decide the number of clusters.\n",
    "Step-2: Select random K points or centroids. ...\n",
    "Step-3: Assign each data point to their closest centroid, which will form the predefined K clusters.\n",
    "Step-4: Calculate the variance and place a new centroid of each cluster.\"\"\")"
   ]
  },
  {
   "cell_type": "code",
   "execution_count": 12,
   "metadata": {},
   "outputs": [
    {
     "name": "stdout",
     "output_type": "stream",
     "text": [
      "Single and complete link hierarchical clustering Hierarchical:- clustering treats each data point as a singleton cluster, and then successively merges clusters until all points have been merged into a single remaining cluster. A hierarchical clustering is often represented as a dendrogram (from Manning et al. 1999).\n"
     ]
    }
   ],
   "source": [
    "#9. In the sense of hierarchical clustering, define the terms single link and complete link.\n",
    "\n",
    "print(\"Single and complete link hierarchical clustering Hierarchical:- clustering treats each data point as a singleton cluster, and then successively merges clusters until all points have been merged into a single remaining cluster. A hierarchical clustering is often represented as a dendrogram (from Manning et al. 1999).\")"
   ]
  },
  {
   "cell_type": "code",
   "execution_count": null,
   "metadata": {},
   "outputs": [],
   "source": []
  }
 ],
 "metadata": {
  "kernelspec": {
   "display_name": "Python 3",
   "language": "python",
   "name": "python3"
  },
  "language_info": {
   "codemirror_mode": {
    "name": "ipython",
    "version": 3
   },
   "file_extension": ".py",
   "mimetype": "text/x-python",
   "name": "python",
   "nbconvert_exporter": "python",
   "pygments_lexer": "ipython3",
   "version": "3.7.6"
  }
 },
 "nbformat": 4,
 "nbformat_minor": 4
}
