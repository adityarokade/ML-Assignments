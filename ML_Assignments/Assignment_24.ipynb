{
 "cells": [
  {
   "cell_type": "code",
   "execution_count": 1,
   "metadata": {},
   "outputs": [
    {
     "name": "stdout",
     "output_type": "stream",
     "text": [
      "Cluster analysis, or clustering, is an unsupervised machine learning task. It involves automatically discovering natural grouping in data. Unlike supervised learning (like predictive modeling), clustering algorithms only interpret the input data and find natural groups or clusters in feature space.\n"
     ]
    }
   ],
   "source": [
    "#1. What is your definition of clustering? What are a few clustering algorithms you might think of?\n",
    "\n",
    "\n",
    "print(\"Cluster analysis, or clustering, is an unsupervised machine learning task. It involves automatically discovering natural grouping in data. Unlike supervised learning (like predictive modeling), clustering algorithms only interpret the input data and find natural groups or clusters in feature space.\")"
   ]
  },
  {
   "cell_type": "code",
   "execution_count": 2,
   "metadata": {},
   "outputs": [
    {
     "name": "stdout",
     "output_type": "stream",
     "text": [
      "There are different types of clustering algorithms that handle all kinds of unique data.\n",
      "Density-based. ...\n",
      "Distribution-based. ...\n",
      "Centroid-based. ...\n",
      "Hierarchical-based. ...\n",
      "K-means clustering algorithm. ...\n",
      "DBSCAN clustering algorithm. ...\n",
      "Gaussian Mixture Model algorithm. ...\n",
      "BIRCH algorithm.\n"
     ]
    }
   ],
   "source": [
    "#2. What are some of the most popular clustering algorithm applications?\n",
    "\n",
    "print(\"\"\"There are different types of clustering algorithms that handle all kinds of unique data.\n",
    "Density-based. ...\n",
    "Distribution-based. ...\n",
    "Centroid-based. ...\n",
    "Hierarchical-based. ...\n",
    "K-means clustering algorithm. ...\n",
    "DBSCAN clustering algorithm. ...\n",
    "Gaussian Mixture Model algorithm. ...\n",
    "BIRCH algorithm.\"\"\")"
   ]
  },
  {
   "cell_type": "code",
   "execution_count": 3,
   "metadata": {},
   "outputs": [
    {
     "name": "stdout",
     "output_type": "stream",
     "text": [
      "The optimal number of clusters can be defined as follow: Compute clustering algorithm (e.g., k-means clustering) for different values of k. For instance, by varying k from 1 to 10 clusters. For each k, calculate the total within-cluster sum of square (wss).\n"
     ]
    }
   ],
   "source": [
    "#3. When using K-Means, describe two strategies for selecting the appropriate number of clusters.\n",
    "\n",
    "print(\"The optimal number of clusters can be defined as follow: Compute clustering algorithm (e.g., k-means clustering) for different values of k. For instance, by varying k from 1 to 10 clusters. For each k, calculate the total within-cluster sum of square (wss).\")"
   ]
  },
  {
   "cell_type": "code",
   "execution_count": 4,
   "metadata": {},
   "outputs": [
    {
     "name": "stdout",
     "output_type": "stream",
     "text": [
      "Back-propagation is the essence of neural net training. It is the practice of fine-tuning the weights of a neural net based on the error rate (i.e. loss) obtained in the previous epoch (i.e. iteration). Proper tuning of the weights ensures lower error rates, making the model reliable by increasing its generalization\n"
     ]
    }
   ],
   "source": [
    "#4. What is mark propagation and how does it work? Why would you do it, and how would you do it?\n",
    "\n",
    "\n",
    "print(\"Back-propagation is the essence of neural net training. It is the practice of fine-tuning the weights of a neural net based on the error rate (i.e. loss) obtained in the previous epoch (i.e. iteration). Proper tuning of the weights ensures lower error rates, making the model reliable by increasing its generalization\")"
   ]
  },
  {
   "cell_type": "code",
   "execution_count": 5,
   "metadata": {},
   "outputs": [
    {
     "name": "stdout",
     "output_type": "stream",
     "text": [
      "CLARA (clustering large applications.) It is a sample-based method that randomly selects a small subset of data points instead of considering the whole observations, which means that it works well on a large dataset.\n"
     ]
    }
   ],
   "source": [
    "#5. Provide two examples of clustering algorithms that can handle large datasets. And two that look for high-den\n",
    "\n",
    "\n",
    "print(\"CLARA (clustering large applications.) It is a sample-based method that randomly selects a small subset of data points instead of considering the whole observations, which means that it works well on a large dataset.\")"
   ]
  },
  {
   "cell_type": "code",
   "execution_count": 6,
   "metadata": {},
   "outputs": [
    {
     "name": "stdout",
     "output_type": "stream",
     "text": [
      "In a constructivist classroom, teachers create situations in which the students will question their own and each other's assumptions. In a similar way, a constructivist teacher creates situations in which he or she is able to challenge the assumptions upon which traditional teaching and learning are based.\n"
     ]
    }
   ],
   "source": [
    "#6. Can you think of a scenario in which constructive learning will be advantageous? How can you go about putting it into action?\n",
    "\n",
    "\n",
    "print(\"In a constructivist classroom, teachers create situations in which the students will question their own and each other's assumptions. In a similar way, a constructivist teacher creates situations in which he or she is able to challenge the assumptions upon which traditional teaching and learning are based.\")"
   ]
  },
  {
   "cell_type": "code",
   "execution_count": 8,
   "metadata": {},
   "outputs": [
    {
     "name": "stdout",
     "output_type": "stream",
     "text": [
      "In this context an outlier is also called a novelty. Outlier detection and novelty detection are both used for anomaly detection, where one is interested in detecting abnormal or unusual observations.\n"
     ]
    }
   ],
   "source": [
    "#7. How do you tell the difference between anomaly and novelty detection?\n",
    "\n",
    "\n",
    "print(\"In this context an outlier is also called a novelty. Outlier detection and novelty detection are both used for anomaly detection, where one is interested in detecting abnormal or unusual observations.\")"
   ]
  },
  {
   "cell_type": "code",
   "execution_count": 9,
   "metadata": {},
   "outputs": [
    {
     "name": "stdout",
     "output_type": "stream",
     "text": [
      "A Gaussian Mixture is a function that is comprised of several Gaussians, each identified by k ∈ {1,…, K}, where K is the number of clusters of our dataset. Each Gaussian k in the mixture is comprised of the following parameters: A mean μ that defines its centre. A covariance Σ that defines its width.\n"
     ]
    }
   ],
   "source": [
    "#8. What is a Gaussian mixture, and how does it work? What are some of the things you can do about it?\n",
    "\n",
    "\n",
    "print(\"A Gaussian Mixture is a function that is comprised of several Gaussians, each identified by k ∈ {1,…, K}, where K is the number of clusters of our dataset. Each Gaussian k in the mixture is comprised of the following parameters: A mean μ that defines its centre. A covariance Σ that defines its width.\")"
   ]
  },
  {
   "cell_type": "code",
   "execution_count": null,
   "metadata": {},
   "outputs": [],
   "source": []
  }
 ],
 "metadata": {
  "kernelspec": {
   "display_name": "Python 3",
   "language": "python",
   "name": "python3"
  },
  "language_info": {
   "codemirror_mode": {
    "name": "ipython",
    "version": 3
   },
   "file_extension": ".py",
   "mimetype": "text/x-python",
   "name": "python",
   "nbconvert_exporter": "python",
   "pygments_lexer": "ipython3",
   "version": "3.7.6"
  }
 },
 "nbformat": 4,
 "nbformat_minor": 4
}
