{
 "cells": [
  {
   "cell_type": "code",
   "execution_count": 1,
   "metadata": {},
   "outputs": [
    {
     "name": "stdout",
     "output_type": "stream",
     "text": [
      "Data preprocessing is required tasks for cleaning the data and making it suitable for a machine learning model which also increases the accuracy and efficiency of a machine learning model. It involves below steps: Getting the dataset. Importing libraries.\n"
     ]
    }
   ],
   "source": [
    "#1. What are the key tasks that machine learning entails? What does data pre-processing imply?\n",
    "\n",
    "\n",
    "print(\"Data preprocessing is required tasks for cleaning the data and making it suitable for a machine learning model which also increases the accuracy and efficiency of a machine learning model. It involves below steps: Getting the dataset. Importing libraries.\")"
   ]
  },
  {
   "cell_type": "code",
   "execution_count": 3,
   "metadata": {},
   "outputs": [
    {
     "name": "stdout",
     "output_type": "stream",
     "text": [
      "Describe quantitative and qualitative data in depth. Make a distinction between the two. Quantitative data is fixed and “universal,” while qualitative data is subjective and dynamic. For example, if something weighs 20 kilograms, that can be considered an objective fact. However, two people may have very different qualitative accounts of how they experience a particular event.\n"
     ]
    }
   ],
   "source": [
    "#2. Describe quantitative and qualitative data in depth. Make a distinction between the two.\n",
    "\n",
    "\n",
    "print(\"Describe quantitative and qualitative data in depth. Make a distinction between the two. Quantitative data is fixed and “universal,” while qualitative data is subjective and dynamic. For example, if something weighs 20 kilograms, that can be considered an objective fact. However, two people may have very different qualitative accounts of how they experience a particular event.\")"
   ]
  },
  {
   "cell_type": "code",
   "execution_count": 4,
   "metadata": {},
   "outputs": [
    {
     "name": "stdout",
     "output_type": "stream",
     "text": [
      "The number one problem facing Machine Learning is the lack of good data. While enhancing algorithms often consumes most of the time of developers in AI, data quality is essential for the algorithms to function as intended.\n"
     ]
    }
   ],
   "source": [
    "#4. What are the various causes of machine learning data issues? What are the ramifications?\n",
    "\n",
    "print(\"The number one problem facing Machine Learning is the lack of good data. While enhancing algorithms often consumes most of the time of developers in AI, data quality is essential for the algorithms to function as intended.\")"
   ]
  },
  {
   "cell_type": "code",
   "execution_count": 6,
   "metadata": {},
   "outputs": [
    {
     "name": "stdout",
     "output_type": "stream",
     "text": [
      "Bar plots of contingency tables. Balloon plot. Mosaic plot. Correspondence analysis.\n"
     ]
    }
   ],
   "source": [
    "#5. Demonstrate various approaches to categorical data exploration with appropriate examples.\n",
    "\n",
    "print(\"Bar plots of contingency tables. Balloon plot. Mosaic plot. Correspondence analysis.\")"
   ]
  },
  {
   "cell_type": "code",
   "execution_count": 8,
   "metadata": {},
   "outputs": [
    {
     "name": "stdout",
     "output_type": "stream",
     "text": [
      "The concept of missing values is important to understand in order to successfully manage data. If the missing values are not handled properly by the researcher, then he/she may end up drawing an inaccurate inference about the data.\n"
     ]
    }
   ],
   "source": [
    "#6. How would the learning activity be affected if certain variables have missing values? Having said that, what can be done about it?\n",
    "\n",
    "print(\"The concept of missing values is important to understand in order to successfully manage data. If the missing values are not handled properly by the researcher, then he/she may end up drawing an inaccurate inference about the data.\")"
   ]
  },
  {
   "cell_type": "code",
   "execution_count": 11,
   "metadata": {},
   "outputs": [
    {
     "name": "stdout",
     "output_type": "stream",
     "text": [
      "There are 2 primary ways of handling missing values: Deleting the Missing values. Imputing the Missing Values.\n",
      "\n",
      "\n",
      "\n",
      "Deleting the Missing value\n",
      "Generally, this approach is not recommended. It is one of the quick and dirty techniques one can use to deal with missing values.\n",
      "\n",
      "If the missing value is of the type Missing Not At Random (MNAR), then it should not be deleted.\n",
      "\n",
      "If the missing value is of type Missing At Random (MAR) or Missing Completely At Random (MCAR) then it can be deleted.\n",
      "\n",
      "The disadvantage of this method is one might end up deleting some useful data from the dataset.\n",
      "\n",
      "There are 2 ways one can delete the missing values:\n",
      "\n",
      "Deleting the entire row\n",
      "\n",
      "If a row has many missing values then you can choose to drop the entire row.\n",
      "\n",
      "If every row has some (column) value missing then you might end up deleting the whole data.\n"
     ]
    }
   ],
   "source": [
    "#7. Describe the various methods for dealing with missing data values in depth.\n",
    "\n",
    "print(\"There are 2 primary ways of handling missing values: Deleting the Missing values. Imputing the Missing Values.\")\n",
    "\n",
    "\n",
    "print(\"\"\"\n",
    "\n",
    "\n",
    "Deleting the Missing value\n",
    "Generally, this approach is not recommended. It is one of the quick and dirty techniques one can use to deal with missing values.\n",
    "\n",
    "If the missing value is of the type Missing Not At Random (MNAR), then it should not be deleted.\n",
    "\n",
    "If the missing value is of type Missing At Random (MAR) or Missing Completely At Random (MCAR) then it can be deleted.\n",
    "\n",
    "The disadvantage of this method is one might end up deleting some useful data from the dataset.\n",
    "\n",
    "There are 2 ways one can delete the missing values:\n",
    "\n",
    "Deleting the entire row\n",
    "\n",
    "If a row has many missing values then you can choose to drop the entire row.\n",
    "\n",
    "If every row has some (column) value missing then you might end up deleting the whole data.\"\"\")\n",
    "\n",
    "\n"
   ]
  },
  {
   "cell_type": "code",
   "execution_count": 13,
   "metadata": {},
   "outputs": [
    {
     "name": "stdout",
     "output_type": "stream",
     "text": [
      "There are four methods of Data Preprocessing which are explained by A. Sivakumar and R. Gunasundari in their journal. They are Data Cleaning/Cleansing, Data Integration, Data Transformation, and Data Reduction.\n",
      "\n",
      "Dimensionality reduction technique can be defined as, 'It is a way of converting the higher dimensions dataset into lesser dimensions dataset ensuring that it provides similar information.' These techniques are widely used in machine learning for obtaining a better fit predictive model while solving the classification\n"
     ]
    }
   ],
   "source": [
    "#8. What are the various data pre-processing techniques? Explain dimensionality reduction and function selection in a few words.\n",
    "\n",
    "\n",
    "print(\"There are four methods of Data Preprocessing which are explained by A. Sivakumar and R. Gunasundari in their journal. They are Data Cleaning/Cleansing, Data Integration, Data Transformation, and Data Reduction.\")\n",
    "print()\n",
    "print(\"Dimensionality reduction technique can be defined as, 'It is a way of converting the higher dimensions dataset into lesser dimensions dataset ensuring that it provides similar information.' These techniques are widely used in machine learning for obtaining a better fit predictive model while solving the classification\")"
   ]
  },
  {
   "cell_type": "code",
   "execution_count": 15,
   "metadata": {},
   "outputs": [
    {
     "name": "stdout",
     "output_type": "stream",
     "text": [
      "The interquartile range is calculated in much the same way as the range. All you do to find it is subtract the first quartile from the third quartile: IQR = Q3 – Q1. The interquartile range shows how the data is spread about the median.\n",
      "\n",
      "\n",
      "In a box and whisker plot:\n",
      "\n",
      "The left and right sides of the box are the lower and upper quartiles. The box covers the interquartile interval, where 50% of the data is found.\n",
      "The vertical line that split the box in two is the median. Sometimes, the mean is also indicated by a dot or a cross on the box plot.\n",
      "The whiskers are the two lines outside the box, that go from the minimum to the lower quartile (the start of the box) and then from the upper quartile (the end of the box) to the maximum.\n",
      "The graph is usually presented with an axis that indicates the values (not shown on figure 4.5.2.1).\n",
      "The box and whisker plot can be presented horizontally, like in figure 4.5.2.1, or vertically.\n",
      "A variation of the box and whisker plot restricts the length of the whiskers to a maximum of 1.5 times the interquartile range. That is, the whisker reaches the value that is the furthest from the centre while still being inside a distance of 1.5 times the interquartile range from the lower or upper quartile. Data points that are outside this interval are represented as points on the graph and considered potential outliers.\n"
     ]
    }
   ],
   "source": [
    "#9.  i. What is the IQR? What criteria are used to assess it?\n",
    "\n",
    "#                ii. Describe the various components of a box plot in detail? When will the lower whisker    surpass the upper whisker in length? How can box plots be used to identify outliers?\n",
    "\n",
    "\n",
    "\n",
    "print(\"The interquartile range is calculated in much the same way as the range. All you do to find it is subtract the first quartile from the third quartile: IQR = Q3 – Q1. The interquartile range shows how the data is spread about the median.\")\n",
    "\n",
    "\n",
    "\n",
    "print()\n",
    "print()\n",
    "print(\"\"\"In a box and whisker plot:\n",
    "\n",
    "The left and right sides of the box are the lower and upper quartiles. The box covers the interquartile interval, where 50% of the data is found.\n",
    "The vertical line that split the box in two is the median. Sometimes, the mean is also indicated by a dot or a cross on the box plot.\n",
    "The whiskers are the two lines outside the box, that go from the minimum to the lower quartile (the start of the box) and then from the upper quartile (the end of the box) to the maximum.\n",
    "The graph is usually presented with an axis that indicates the values (not shown on figure 4.5.2.1).\n",
    "The box and whisker plot can be presented horizontally, like in figure 4.5.2.1, or vertically.\n",
    "A variation of the box and whisker plot restricts the length of the whiskers to a maximum of 1.5 times the interquartile range. That is, the whisker reaches the value that is the furthest from the centre while still being inside a distance of 1.5 times the interquartile range from the lower or upper quartile. Data points that are outside this interval are represented as points on the graph and considered potential outliers.\"\"\")\n"
   ]
  },
  {
   "cell_type": "code",
   "execution_count": 16,
   "metadata": {},
   "outputs": [
    {
     "name": "stdout",
     "output_type": "stream",
     "text": [
      "Interval data, also called an integer, is defined as a data type which is measured along a scale, in which each point is placed at equal distance from one another. Interval data always appears in the form of numbers or numerical values where the distance between the two points is standardized and equal.\n",
      "\n",
      "The interquartile range or IQR is the range of the middle half of a set of data. It is the difference between the upper quartile and the lower quartile. In the above example, the lower quartile is 52 and the upper quartile is 58 . The interquartile range is 58−52 or 6 .\n"
     ]
    }
   ],
   "source": [
    "#10. Make brief notes on any two of the following:\n",
    "\n",
    " #             1. Data collected at regular intervals\n",
    "\n",
    " #              2. The gap between the quartiles\n",
    "\n",
    " #              3. Use a cross-tab\n",
    "\n",
    "    \n",
    "    \n",
    "print(\"Interval data, also called an integer, is defined as a data type which is measured along a scale, in which each point is placed at equal distance from one another. Interval data always appears in the form of numbers or numerical values where the distance between the two points is standardized and equal.\")\n",
    "\n",
    "\n",
    "print()\n",
    "\n",
    "print(\"The interquartile range or IQR is the range of the middle half of a set of data. It is the difference between the upper quartile and the lower quartile. In the above example, the lower quartile is 52 and the upper quartile is 58 . The interquartile range is 58−52 or 6 .\")\n",
    "            "
   ]
  },
  {
   "cell_type": "code",
   "execution_count": 17,
   "metadata": {},
   "outputs": [
    {
     "name": "stdout",
     "output_type": "stream",
     "text": [
      "Nominal data is classified without a natural order or rank, whereas ordinal data has a predetermined or natural order. On the other hand, numerical or quantitative data will always be a number that can be measured.\n",
      "Histograms and box plots are very similar in that they both help to visualize and describe numeric data. Although histograms are better in determining the underlying distribution of the data, box plots allow you to compare multiple data sets better than histograms as they are less detailed and take up less space.\n"
     ]
    }
   ],
   "source": [
    "#11. Make a comparison between:\n",
    "#1. Data with nominal and ordinal values\n",
    "print(\"Nominal data is classified without a natural order or rank, whereas ordinal data has a predetermined or natural order. On the other hand, numerical or quantitative data will always be a number that can be measured.\")\n",
    "\n",
    "#2. Histogram and box plot\n",
    "\n",
    "print(\"Histograms and box plots are very similar in that they both help to visualize and describe numeric data. Although histograms are better in determining the underlying distribution of the data, box plots allow you to compare multiple data sets better than histograms as they are less detailed and take up less space.\")"
   ]
  },
  {
   "cell_type": "code",
   "execution_count": null,
   "metadata": {},
   "outputs": [],
   "source": []
  }
 ],
 "metadata": {
  "kernelspec": {
   "display_name": "Python 3",
   "language": "python",
   "name": "python3"
  },
  "language_info": {
   "codemirror_mode": {
    "name": "ipython",
    "version": 3
   },
   "file_extension": ".py",
   "mimetype": "text/x-python",
   "name": "python",
   "nbconvert_exporter": "python",
   "pygments_lexer": "ipython3",
   "version": "3.7.6"
  }
 },
 "nbformat": 4,
 "nbformat_minor": 4
}
