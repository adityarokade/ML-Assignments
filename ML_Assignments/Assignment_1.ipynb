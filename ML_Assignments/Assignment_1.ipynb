{
 "cells": [
  {
   "cell_type": "code",
   "execution_count": 1,
   "metadata": {},
   "outputs": [
    {
     "name": "stdout",
     "output_type": "stream",
     "text": [
      "Machine Learning is a subfield of Artificial Intelligence,which is used solve the complex tasks.the learning means finding the reletion between dataset.\n"
     ]
    }
   ],
   "source": [
    "#1. What does one mean by the term \"machine learning\"?\n",
    "\n",
    "\n",
    "print(\"Machine Learning is a subfield of Artificial Intelligence,which is used solve the complex tasks.the learning means finding the reletion between dataset.\")"
   ]
  },
  {
   "cell_type": "code",
   "execution_count": 2,
   "metadata": {},
   "outputs": [
    {
     "name": "stdout",
     "output_type": "stream",
     "text": [
      "Machine Learning algorithms are worked on many problems and showing good result like:-spam detection in email, cancer diagnosis, fraudulent credit card transactions, and automatically driving vehicles.\n"
     ]
    }
   ],
   "source": [
    "#2.Can you think of 4 distinct types of issues where it shines?\n",
    "\n",
    "\n",
    "print(\"Machine Learning algorithms are worked on many problems and showing good result like:-\"\n",
    "     \"spam detection in email, cancer diagnosis, fraudulent credit card transactions, and automatically driving vehicles.\")"
   ]
  },
  {
   "cell_type": "code",
   "execution_count": 3,
   "metadata": {},
   "outputs": [
    {
     "name": "stdout",
     "output_type": "stream",
     "text": [
      "Labeled training set is dataset which is used to train a model and based on train model we can predict the test result and by campairing the predicted result and actual result we can finilesed the model.\n"
     ]
    }
   ],
   "source": [
    "#3.What is a labeled training set, and how does it work?\n",
    "\n",
    "print(\"Labeled training set is dataset which is used to train a model and based on train model we can predict the test result and by campairing the predicted result and actual result we can finilesed the model.\")"
   ]
  },
  {
   "cell_type": "code",
   "execution_count": 4,
   "metadata": {},
   "outputs": [
    {
     "name": "stdout",
     "output_type": "stream",
     "text": [
      "In supervised learning the two main types are 'classification' and 'Regression'.\n"
     ]
    }
   ],
   "source": [
    "#4.What are the two most important tasks that are supervised?\n",
    "\n",
    "print(\"In supervised learning the two main types are 'classification' and 'Regression'.\")"
   ]
  },
  {
   "cell_type": "code",
   "execution_count": 5,
   "metadata": {},
   "outputs": [
    {
     "name": "stdout",
     "output_type": "stream",
     "text": [
      "The examles of unsupervised learning:-grouping the data based on sisimilarities,For multymodel system,\n"
     ]
    }
   ],
   "source": [
    "#5.Can you think of four examples of unsupervised tasks?\n",
    "\n",
    "\n",
    "print(\"The examles of unsupervised learning:-\"\n",
    "     \"grouping the data based on sisimilarities,\"\n",
    "     \"For multymodel system,\")"
   ]
  },
  {
   "cell_type": "code",
   "execution_count": 6,
   "metadata": {},
   "outputs": [
    {
     "name": "stdout",
     "output_type": "stream",
     "text": [
      "'Reinforced Learning' is best model for robot training\n"
     ]
    }
   ],
   "source": [
    "#6.State the machine learning model that would be best to make a robot walk through various unfamiliar terrains?\n",
    "\n",
    "\n",
    "print(\"'Reinforced Learning' is best model for robot training\")"
   ]
  },
  {
   "cell_type": "code",
   "execution_count": 7,
   "metadata": {},
   "outputs": [
    {
     "name": "stdout",
     "output_type": "stream",
     "text": [
      "For customer segmentation we mostly use dthe clustering apporach.\n"
     ]
    }
   ],
   "source": [
    "#7.Which algorithm will you use to divide your customers into different groups?\n",
    "\n",
    "print(\"For customer segmentation we mostly use dthe clustering apporach.\")"
   ]
  },
  {
   "cell_type": "code",
   "execution_count": 8,
   "metadata": {},
   "outputs": [
    {
     "name": "stdout",
     "output_type": "stream",
     "text": [
      "The spam detection is a supervised lerning problem\n"
     ]
    }
   ],
   "source": [
    "#8.Will you consider the problem of spam detection to be a supervised or unsupervised learning problem?\n",
    "\n",
    "print(\"The spam detection is a supervised lerning problem\")"
   ]
  },
  {
   "cell_type": "code",
   "execution_count": 10,
   "metadata": {},
   "outputs": [
    {
     "name": "stdout",
     "output_type": "stream",
     "text": [
      "Machine learning (ML) is a type of artificial intelligence (AI) that allows software applications to become more accurate at predicting outcomes without being explicitly programmed to do so. Machine learning algorithms use historical data as input to predict new output values.\n"
     ]
    }
   ],
   "source": [
    "#9.What is the concept of an machine learning system?\n",
    "print(\"Machine learning (ML) is a type of artificial intelligence (AI) that allows software applications to become more accurate at predicting outcomes without being explicitly programmed to do so. Machine learning algorithms use historical data as input to predict new output values.\")\n",
    "\n"
   ]
  },
  {
   "cell_type": "code",
   "execution_count": 12,
   "metadata": {},
   "outputs": [
    {
     "name": "stdout",
     "output_type": "stream",
     "text": [
      "Out-of-core learning refers to a set of algorithms working with data that cannot fit into the memory of a single computer, but that can easily fit into some data storage such as a local hard disk or web repository.\n"
     ]
    }
   ],
   "source": [
    "#10.What is out-of-core learning, and how does it differ from core learning?\n",
    "print(\"Out-of-core learning refers to a set of algorithms working with data that cannot fit into the memory of a single computer, but that can easily fit into some data storage such as a local hard disk or web repository.\")"
   ]
  },
  {
   "cell_type": "code",
   "execution_count": 14,
   "metadata": {},
   "outputs": [
    {
     "name": "stdout",
     "output_type": "stream",
     "text": [
      "Instance-based algorithm is predict using similarity measure\n"
     ]
    }
   ],
   "source": [
    "#11.What kind of learning algorithm makes predictions using a similarity measure?\n",
    "\n",
    "print(\"Instance-based algorithm is predict using similarity measure\")"
   ]
  },
  {
   "cell_type": "code",
   "execution_count": 15,
   "metadata": {},
   "outputs": [
    {
     "name": "stdout",
     "output_type": "stream",
     "text": [
      "Model parameter are estimated based on the data during the training and hyperparamater are given by manually to estimate the model paramater\n"
     ]
    }
   ],
   "source": [
    "#12.What's the difference between a model parameter and a hyperparameter in a learning algorithm?\n",
    "\n",
    "print(\"Model parameter are estimated based on the data during the training and hyperparamater are given by manually to estimate the model paramater\")"
   ]
  },
  {
   "cell_type": "code",
   "execution_count": 17,
   "metadata": {},
   "outputs": [
    {
     "name": "stdout",
     "output_type": "stream",
     "text": [
      "The goal for a model-based algorithm is to be able to generalize to new examples. To do this, model based algorithms search for optimal values for the model's parameters, often called theta. This searching, or 'lerning', is what machine learning is all about. Model-based system learn by minimizing a cost function that measures how bad the system is at making predicitons on new data, plus a penalty for model complexity if the model is regularized. To make a prediction, a new instance's features are fed into a hypothesis function which uses the minimized theta found by repeatedly running the cost function.\n"
     ]
    }
   ],
   "source": [
    "#13.What are the criteria that model-based learning algorithms look for? What is the most popular method they use to achieve success? What method do they use to make predictions?\n",
    "\n",
    "\n",
    "print(\"The goal for a model-based algorithm is to be able to generalize to new examples. To do this, model based algorithms search for optimal values for the model's parameters, often called theta. This searching, or 'lerning', is what machine learning is all about. Model-based system learn by minimizing a cost function that measures how bad the system is at making predicitons on new data, plus a penalty for model complexity if the model is regularized. To make a prediction, a new instance's features are fed into a hypothesis function which uses the minimized theta found by repeatedly running the cost function.\")"
   ]
  },
  {
   "cell_type": "code",
   "execution_count": 18,
   "metadata": {},
   "outputs": [
    {
     "name": "stdout",
     "output_type": "stream",
     "text": [
      "Overfitting and underfitting,Representative data,Lacking in data\n"
     ]
    }
   ],
   "source": [
    "#14.Can you name four of the most important Machine Learning challenges?\n",
    "\n",
    "\n",
    "print(\"Overfitting and underfitting,Representative data,Lacking in data\")"
   ]
  },
  {
   "cell_type": "code",
   "execution_count": 19,
   "metadata": {},
   "outputs": [
    {
     "name": "stdout",
     "output_type": "stream",
     "text": [
      "This situation is called overfitting ,to avoid that we can use a regulization ,remove outliers and train model on large dataset.\n"
     ]
    }
   ],
   "source": [
    "#15.What happens if the model performs well on the training data but fails to generalize the results to new situations? Can you think of three different options?\n",
    "\n",
    "\n",
    "print(\"This situation is called overfitting ,to avoid that we can use a regulization ,remove outliers and train model on large dataset.\")"
   ]
  },
  {
   "cell_type": "code",
   "execution_count": 21,
   "metadata": {},
   "outputs": [
    {
     "name": "stdout",
     "output_type": "stream",
     "text": [
      "The point of a test set is to give you a final, unbiased performance measure of your entire model building process.\n"
     ]
    }
   ],
   "source": [
    "#16.What exactly is a test set, and why would you need one?\n",
    "\n",
    "\n",
    "print(\"The point of a test set is to give you a final, unbiased performance measure of your entire model building process.\")"
   ]
  },
  {
   "cell_type": "code",
   "execution_count": 22,
   "metadata": {},
   "outputs": [
    {
     "name": "stdout",
     "output_type": "stream",
     "text": [
      "It is used to train the model for given problem.\n"
     ]
    }
   ],
   "source": [
    "#17.What is a validation set's purpose?\n",
    "\n",
    "print(\"It is used to train the model for given problem.\")"
   ]
  },
  {
   "cell_type": "code",
   "execution_count": null,
   "metadata": {},
   "outputs": [],
   "source": []
  }
 ],
 "metadata": {
  "kernelspec": {
   "display_name": "Python 3",
   "language": "python",
   "name": "python3"
  },
  "language_info": {
   "codemirror_mode": {
    "name": "ipython",
    "version": 3
   },
   "file_extension": ".py",
   "mimetype": "text/x-python",
   "name": "python",
   "nbconvert_exporter": "python",
   "pygments_lexer": "ipython3",
   "version": "3.7.6"
  }
 },
 "nbformat": 4,
 "nbformat_minor": 4
}
