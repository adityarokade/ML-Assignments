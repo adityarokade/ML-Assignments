{
 "cells": [
  {
   "cell_type": "code",
   "execution_count": 1,
   "metadata": {},
   "outputs": [
    {
     "name": "stdout",
     "output_type": "stream",
     "text": [
      "For example, imagine that you are conditioning a dog to salivate in response to the sound of a bell. You repeatedly pair the presentation of food with the sound of the bell. You can say the response has been acquired as soon as theFor example, imagine that you are conditioning a dog to salivate in response to the sound of a bell. You repeatedly pair the presentation of food with the sound of the bell. You can say the response has been acquired as soon as the dog begins to salivate in response to the bell tone. dog begins to salivate in response to the bell tone.\n"
     ]
    }
   ],
   "source": [
    "#1. What is the concept of human learning? Please give two examples.\n",
    "\n",
    "print(\"For example, imagine that you are conditioning a dog to salivate in response to the sound of a bell. You repeatedly pair the presentation of food with the sound of the bell. You can say the response has been acquired as soon as theFor example, imagine that you are conditioning a dog to salivate in response to the sound of a bell. You repeatedly pair the presentation of food with the sound of the bell. You can say the response has been acquired as soon as the dog begins to salivate in response to the bell tone. dog begins to salivate in response to the bell tone.\")"
   ]
  },
  {
   "cell_type": "code",
   "execution_count": 3,
   "metadata": {},
   "outputs": [
    {
     "name": "stdout",
     "output_type": "stream",
     "text": [
      "As explained, machine learning algorithms have the ability to improve themselves through training. Today, ML algorithms are trained using three prominent methods. These are three types of machine learning: supervised learning, unsupervised learning, and reinforcement learning.\n"
     ]
    }
   ],
   "source": [
    "#2. What different forms of human learning are there? Are there any machine learning equivalents?\n",
    "\n",
    "print(\"As explained, machine learning algorithms have the ability to improve themselves through training. Today, ML algorithms are trained using three prominent methods. These are three types of machine learning: supervised learning, unsupervised learning, and reinforcement learning.\")"
   ]
  },
  {
   "cell_type": "code",
   "execution_count": 4,
   "metadata": {},
   "outputs": [
    {
     "name": "stdout",
     "output_type": "stream",
     "text": [
      "Machine learning brings out the power of data in new ways, such as Facebook suggesting articles in your feed. This amazing technology helps computer systems learn and improve from experience by developing computer programs that can automatically access data and perform tasks via predictions and detections.\n"
     ]
    }
   ],
   "source": [
    "#3. What is machine learning, and how does it work? What are the key responsibilities of machine learning?\n",
    "\n",
    "print(\"Machine learning brings out the power of data in new ways, such as Facebook suggesting articles in your feed. This amazing technology helps computer systems learn and improve from experience by developing computer programs that can automatically access data and perform tasks via predictions and detections.\")"
   ]
  },
  {
   "cell_type": "code",
   "execution_count": 5,
   "metadata": {},
   "outputs": [
    {
     "name": "stdout",
     "output_type": "stream",
     "text": [
      "A reinforcement learning algorithm, which may also be referred to as an agent, learns by interacting with its environment. The agent receives rewards by performing correctly and penalties for performing incorrectly. The agent learns without intervention from a human by maximizing its reward and minimizing its penalty.\n"
     ]
    }
   ],
   "source": [
    "#4. Define the terms \"penalty\" and \"reward\" in the context of reinforcement learning\n",
    "\n",
    "\n",
    "print(\"A reinforcement learning algorithm, which may also be referred to as an agent, learns by interacting with its environment. The agent receives rewards by performing correctly and penalties for performing incorrectly. The agent learns without intervention from a human by maximizing its reward and minimizing its penalty.\")"
   ]
  },
  {
   "cell_type": "code",
   "execution_count": 8,
   "metadata": {},
   "outputs": [
    {
     "name": "stdout",
     "output_type": "stream",
     "text": [
      "Concept learning, also known as category learning, concept attainment, and concept formation, is defined by Bruner, Goodnow, & Austin (1967) as 'the search for and listing of attributes that can be used to distinguish exemplars from non exemplars of various categories'.\n"
     ]
    }
   ],
   "source": [
    "#5. Explain the term \"learning as a search\"?\n",
    "\n",
    "print(\"Concept learning, also known as category learning, concept attainment, and concept formation, is defined by Bruner, Goodnow, & Austin (1967) as 'the search for and listing of attributes that can be used to distinguish exemplars from non exemplars of various categories'.\")"
   ]
  },
  {
   "cell_type": "code",
   "execution_count": 9,
   "metadata": {},
   "outputs": [
    {
     "name": "stdout",
     "output_type": "stream",
     "text": [
      "The goal of machine learning, closely coupled with the goal of AI, is to achieve a thorough understanding about the nature of learning process (both human learning and other forms of learning), about the computational aspects of learning behaviors, and to implant the learning capability in computer systems.\n"
     ]
    }
   ],
   "source": [
    "#6. What are the various goals of machine learning? What is the relationship between these and human learning?\n",
    "\n",
    "print(\"The goal of machine learning, closely coupled with the goal of AI, is to achieve a thorough understanding about the nature of learning process (both human learning and other forms of learning), about the computational aspects of learning behaviors, and to implant the learning capability in computer systems.\")"
   ]
  },
  {
   "cell_type": "code",
   "execution_count": 10,
   "metadata": {},
   "outputs": [
    {
     "name": "stdout",
     "output_type": "stream",
     "text": [
      "Image recognition. Image recognition is a well-known and widespread example of machine learning in the real world. ...\n",
      "Speech recognition. Machine learning can translate speech into text. ...\n",
      "Medical diagnosis. ...\n",
      "Statistical arbitrage. ...\n",
      "Predictive analytics. ...\n",
      "Extraction.\n",
      "\n"
     ]
    }
   ],
   "source": [
    "#7. Illustrate the various elements of machine learning using a real-life illustration.\n",
    "\n",
    "print(\"\"\"Image recognition. Image recognition is a well-known and widespread example of machine learning in the real world. ...\n",
    "Speech recognition. Machine learning can translate speech into text. ...\n",
    "Medical diagnosis. ...\n",
    "Statistical arbitrage. ...\n",
    "Predictive analytics. ...\n",
    "Extraction.\n",
    "\"\"\")"
   ]
  },
  {
   "cell_type": "code",
   "execution_count": 11,
   "metadata": {},
   "outputs": [
    {
     "name": "stdout",
     "output_type": "stream",
     "text": [
      "In simple terms, abstraction “displays” only the relevant attributes of objects and “hides” the unnecessary details. For example, when we are driving a car, we are only concerned about driving the car like start/stop the car, accelerate/ break, etc.\n"
     ]
    }
   ],
   "source": [
    "#8. Provide an example of the abstraction method.\n",
    "\n",
    "\n",
    "print(\"In simple terms, abstraction “displays” only the relevant attributes of objects and “hides” the unnecessary details. For example, when we are driving a car, we are only concerned about driving the car like start/stop the car, accelerate/ break, etc.\")"
   ]
  },
  {
   "cell_type": "code",
   "execution_count": 12,
   "metadata": {},
   "outputs": [
    {
     "name": "stdout",
     "output_type": "stream",
     "text": [
      "Generalization refers to your model's ability to adapt properly to new, previously unseen data, drawn from the same distribution as the one used to create the model. Develop intuition about overfitting. Determine whether a model is good or not.\n"
     ]
    }
   ],
   "source": [
    "#9. What is the concept of generalization? What function does it play in the machine learning process?\n",
    "\n",
    "\n",
    "print(\"Generalization refers to your model's ability to adapt properly to new, previously unseen data, drawn from the same distribution as the one used to create the model. Develop intuition about overfitting. Determine whether a model is good or not.\")"
   ]
  },
  {
   "cell_type": "code",
   "execution_count": 13,
   "metadata": {},
   "outputs": [
    {
     "name": "stdout",
     "output_type": "stream",
     "text": [
      "Classification is the task of predicting a discrete class label. Regression is the task of predicting a continuous quantity\n"
     ]
    }
   ],
   "source": [
    "#What is classification, exactly? What are the main distinctions between classification and regression?\n",
    "\n",
    "\n",
    "print(\"Classification is the task of predicting a discrete class label. Regression is the task of predicting a continuous quantity\")"
   ]
  },
  {
   "cell_type": "code",
   "execution_count": 15,
   "metadata": {},
   "outputs": [
    {
     "name": "stdout",
     "output_type": "stream",
     "text": [
      "Medical researchers often use linear regression to understand the relationship between drug dosage and blood pressure of patients. For example, researchers might administer various dosages of a certain drug to patients and observe how their blood pressure responds.\n"
     ]
    }
   ],
   "source": [
    "#11. What is regression, and how does it work? Give an example of a real-world problem that was solved using regression.\n",
    "\n",
    "print(\"Medical researchers often use linear regression to understand the relationship between drug dosage and blood pressure of patients. For example, researchers might administer various dosages of a certain drug to patients and observe how their blood pressure responds.\")"
   ]
  },
  {
   "cell_type": "code",
   "execution_count": 16,
   "metadata": {},
   "outputs": [
    {
     "name": "stdout",
     "output_type": "stream",
     "text": [
      "Clustering is the task of dividing the population or data points into a number of groups such that data points in the same groups are more similar to other data points in the same group than those in other groups.\n"
     ]
    }
   ],
   "source": [
    "#12. Describe the clustering mechanism in detail.\n",
    "\n",
    "print(\"Clustering is the task of dividing the population or data points into a number of groups such that data points in the same groups are more similar to other data points in the same group than those in other groups.\")"
   ]
  },
  {
   "cell_type": "code",
   "execution_count": null,
   "metadata": {},
   "outputs": [],
   "source": []
  }
 ],
 "metadata": {
  "kernelspec": {
   "display_name": "Python 3",
   "language": "python",
   "name": "python3"
  },
  "language_info": {
   "codemirror_mode": {
    "name": "ipython",
    "version": 3
   },
   "file_extension": ".py",
   "mimetype": "text/x-python",
   "name": "python",
   "nbconvert_exporter": "python",
   "pygments_lexer": "ipython3",
   "version": "3.7.6"
  }
 },
 "nbformat": 4,
 "nbformat_minor": 4
}
