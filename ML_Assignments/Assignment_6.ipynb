{
 "cells": [
  {
   "cell_type": "code",
   "execution_count": 3,
   "metadata": {},
   "outputs": [
    {
     "name": "stdout",
     "output_type": "stream",
     "text": [
      "In the sense of machine learning, what is a model? What is the best way to train a model? A machine learning model is a file that has been trained to recognize certain types of patterns. You train a model over a set of data, providing it an algorithm that it can use to reason over and learn from those data\n",
      "\n",
      "3 steps to training a machine learning model\n",
      "Step 1: Begin with existing data. Machine learning requires us to have existing data—not the data our application will use when we run it, but data to learn from. ...\n",
      "Step 2: Analyze data to identify patterns. ...\n",
      "Step 3: Make predictions.\n"
     ]
    }
   ],
   "source": [
    "#1. In the sense of machine learning, what is a model? What is the best way to train a model?\n",
    "\n",
    "\n",
    "print(\"In the sense of machine learning, what is a model? What is the best way to train a model? A machine learning model is a file that has been trained to recognize certain types of patterns. You train a model over a set of data, providing it an algorithm that it can use to reason over and learn from those data\")\n",
    "print(\"\"\"\n",
    "3 steps to training a machine learning model\n",
    "Step 1: Begin with existing data. Machine learning requires us to have existing data—not the data our application will use when we run it, but data to learn from. ...\n",
    "Step 2: Analyze data to identify patterns. ...\n",
    "Step 3: Make predictions.\"\"\")"
   ]
  },
  {
   "cell_type": "code",
   "execution_count": 4,
   "metadata": {},
   "outputs": [
    {
     "name": "stdout",
     "output_type": "stream",
     "text": [
      "The No Free Lunch Theorem is often thrown around in the field of optimization and machine learning, often with little understanding of what it means or implies. The theorem states that all optimization algorithms perform equally well when their performance is averaged across all possible problems.\n"
     ]
    }
   ],
   "source": [
    "#2. In the sense of machine learning, explain the \"No Free Lunch\" theorem.\n",
    "\n",
    "print(\"The No Free Lunch Theorem is often thrown around in the field of optimization and machine learning, often with little understanding of what it means or implies. The theorem states that all optimization algorithms perform equally well when their performance is averaged across all possible problems.\")"
   ]
  },
  {
   "cell_type": "code",
   "execution_count": 5,
   "metadata": {},
   "outputs": [
    {
     "name": "stdout",
     "output_type": "stream",
     "text": [
      "Cross-validation is a resampling procedure used to evaluate machine learning models on a limited data sample. The procedure has a single parameter called k that refers to the number of groups that a given data sample is to be split into.\n"
     ]
    }
   ],
   "source": [
    "#3. Describe the K-fold cross-validation mechanism in detail.\n",
    "\n",
    "print(\"Cross-validation is a resampling procedure used to evaluate machine learning models on a limited data sample. The procedure has a single parameter called k that refers to the number of groups that a given data sample is to be split into.\")"
   ]
  },
  {
   "cell_type": "code",
   "execution_count": 6,
   "metadata": {},
   "outputs": [
    {
     "name": "stdout",
     "output_type": "stream",
     "text": [
      "The bootstrap method is a statistical technique for estimating quantities about a population by averaging estimates from multiple small data samples. Importantly, samples are constructed by drawing observations from a large data sample one at a time and returning them to the data sample after they have been chosen.\n"
     ]
    }
   ],
   "source": [
    "#. Describe the bootstrap sampling method. What is the aim of it?\n",
    "\n",
    "print(\"The bootstrap method is a statistical technique for estimating quantities about a population by averaging estimates from multiple small data samples. Importantly, samples are constructed by drawing observations from a large data sample one at a time and returning them to the data sample after they have been chosen.\")"
   ]
  },
  {
   "cell_type": "code",
   "execution_count": 8,
   "metadata": {},
   "outputs": [
    {
     "name": "stdout",
     "output_type": "stream",
     "text": [
      "Cohen's kappa is a metric often used to assess the agreement between two raters. It can also be used to assess the performance of a classification model.\n",
      "The kappa statistic is frequently used to test interrater reliability. The importance of rater reliability lies in the fact that it represents the extent to which the data collected in the study are correct representations of the variables measured.\n"
     ]
    }
   ],
   "source": [
    "#. What is the significance of calculating the Kappa value for a classification model? Demonstrate how to measure the Kappa value of a classification model using a sample collection of results.\n",
    "\n",
    "print(\"Cohen's kappa is a metric often used to assess the agreement between two raters. It can also be used to assess the performance of a classification model.\")\n",
    "\n",
    "print(\"The kappa statistic is frequently used to test interrater reliability. The importance of rater reliability lies in the fact that it represents the extent to which the data collected in the study are correct representations of the variables measured.\")"
   ]
  },
  {
   "cell_type": "code",
   "execution_count": 9,
   "metadata": {},
   "outputs": [
    {
     "name": "stdout",
     "output_type": "stream",
     "text": [
      "Ensemble methods is a machine learning technique that combines several base models in order to produce one optimal predictive model . To better understand this definition lets take a step back into ultimate goal of machine learning and model building.\n"
     ]
    }
   ],
   "source": [
    "#6. Describe the model ensemble method. In machine learning, what part does it play?\n",
    "\n",
    "print(\"Ensemble methods is a machine learning technique that combines several base models in order to produce one optimal predictive model . To better understand this definition lets take a step back into ultimate goal of machine learning and model building.\")"
   ]
  },
  {
   "cell_type": "code",
   "execution_count": 10,
   "metadata": {},
   "outputs": [
    {
     "name": "stdout",
     "output_type": "stream",
     "text": [
      "A descriptive model describes a system or other entity and its relationship to its environment. It is generally used to help specify and/or understand what the system is, what it does, and how it does it. A geometric model or spatial model is a descriptive model that represents geometric and/or spatial relationships.\n"
     ]
    }
   ],
   "source": [
    "#7. What is a descriptive model's main purpose? Give examples of real-world problems that descriptive models were used to solve.\n",
    "\n",
    "print(\"A descriptive model describes a system or other entity and its relationship to its environment. It is generally used to help specify and/or understand what the system is, what it does, and how it does it. A geometric model or spatial model is a descriptive model that represents geometric and/or spatial relationships.\")"
   ]
  },
  {
   "cell_type": "code",
   "execution_count": 11,
   "metadata": {},
   "outputs": [
    {
     "name": "stdout",
     "output_type": "stream",
     "text": [
      "\n",
      "There are 3 main metrics for model evaluation in regression:\n",
      "R Square/Adjusted R Square.\n",
      "Mean Square Error(MSE)/Root Mean Square Error(RMSE)\n",
      "Mean Absolute Error(MAE)\n"
     ]
    }
   ],
   "source": [
    "#8. Describe how to evaluate a linear regression model.\n",
    "\n",
    "print(\"\"\"\n",
    "There are 3 main metrics for model evaluation in regression:\n",
    "R Square/Adjusted R Square.\n",
    "Mean Square Error(MSE)/Root Mean Square Error(RMSE)\n",
    "Mean Absolute Error(MAE)\"\"\")"
   ]
  },
  {
   "cell_type": "code",
   "execution_count": 13,
   "metadata": {},
   "outputs": [
    {
     "name": "stdout",
     "output_type": "stream",
     "text": [
      "A descriptive model will exploit the past data that are stored in databases and provide you with the accurate report. In a Predictive model, it identifies patterns found in past and transactional data to find risks and future outcomes.\n",
      "\n",
      "\n",
      "Underfitting occurs when our machine learning model is not able to capture the underlying trend of the data. To avoid the overfitting in the model, the fed of training data can be stopped at an early stage, due to which the model may not learn enough from the training data.\n",
      "\n",
      "\n",
      "In summary, Cross validation splits the available dataset to create multiple datasets, and Bootstrapping method uses the original dataset to create multiple datasets after resampling with replacement\n"
     ]
    }
   ],
   "source": [
    "#9. Distinguish :\n",
    "#1. Descriptive vs. predictive models\n",
    "\n",
    "print(\"A descriptive model will exploit the past data that are stored in databases and provide you with the accurate report. In a Predictive model, it identifies patterns found in past and transactional data to find risks and future outcomes.\")\n",
    "print()\n",
    "print()\n",
    "#2. Underfitting vs. overfitting the model\n",
    "\n",
    "print(\"Underfitting occurs when our machine learning model is not able to capture the underlying trend of the data. To avoid the overfitting in the model, the fed of training data can be stopped at an early stage, due to which the model may not learn enough from the training data.\")\n",
    "print()\n",
    "print()\n",
    "#3. Bootstrapping vs. cross-validation\n",
    "print(\"In summary, Cross validation splits the available dataset to create multiple datasets, and Bootstrapping method uses the original dataset to create multiple datasets after resampling with replacement\")"
   ]
  },
  {
   "cell_type": "code",
   "execution_count": 16,
   "metadata": {},
   "outputs": [
    {
     "name": "stdout",
     "output_type": "stream",
     "text": [
      "The Leave-One-Out Cross-Validation, or LOOCV, procedure is used to estimate the performance of machine learning algorithms when they are used to make predictions on data not used to train the model.\n",
      "\n",
      "The F2-measure is an example of the Fbeta-measure with a beta value of 2.0. It has the effect of lowering the importance of precision and increase the importance of recall.\n"
     ]
    }
   ],
   "source": [
    "#10. Make quick notes on:\n",
    "\n",
    " #           1. LOOCV.\n",
    "print(\"The Leave-One-Out Cross-Validation, or LOOCV, procedure is used to estimate the performance of machine learning algorithms when they are used to make predictions on data not used to train the model.\")\n",
    "\n",
    "print()\n",
    "#      2. F-measurement\n",
    "print(\"The F2-measure is an example of the Fbeta-measure with a beta value of 2.0. It has the effect of lowering the importance of precision and increase the importance of recall.\")"
   ]
  },
  {
   "cell_type": "code",
   "execution_count": null,
   "metadata": {},
   "outputs": [],
   "source": []
  }
 ],
 "metadata": {
  "kernelspec": {
   "display_name": "Python 3",
   "language": "python",
   "name": "python3"
  },
  "language_info": {
   "codemirror_mode": {
    "name": "ipython",
    "version": 3
   },
   "file_extension": ".py",
   "mimetype": "text/x-python",
   "name": "python",
   "nbconvert_exporter": "python",
   "pygments_lexer": "ipython3",
   "version": "3.7.6"
  }
 },
 "nbformat": 4,
 "nbformat_minor": 4
}
